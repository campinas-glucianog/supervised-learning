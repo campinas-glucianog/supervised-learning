{
 "cells": [
  {
   "cell_type": "markdown",
   "metadata": {
    "id": "WtAYV1EmiVSl"
   },
   "source": [
    "Universidade Estadual de Campinas (UNICAMP), Instituto de Computação (IC)\n",
    "\n",
    "Prof. Jacques Wainer, 2021s1"
   ]
  },
  {
   "cell_type": "code",
   "execution_count": null,
   "metadata": {
    "colab": {
     "base_uri": "https://localhost:8080/"
    },
    "id": "Mfg8mpj1iRcS",
    "outputId": "f765e5ae-7586-40b1-fa46-3cc4fd4fee22"
   },
   "outputs": [
    {
     "name": "stdout",
     "output_type": "stream",
     "text": [
      "264965: Décio Luiz Gazzoni Filho\n",
      "265673: Gabriel Luciano Gomes\n",
      "192880: Lucas Borges Rondon\n"
     ]
    }
   ],
   "source": [
    "# RA & Name\n",
    "print('264965: ' + 'Décio Luiz Gazzoni Filho')\n",
    "print('265673: ' + 'Gabriel Luciano Gomes')\n",
    "print('192880: ' + 'Lucas Borges Rondon')"
   ]
  },
  {
   "cell_type": "markdown",
   "metadata": {
    "id": "IY2vRHzfYJUl"
   },
   "source": [
    "# Metodologia\n",
    "\n",
    "Para este projeto, foi utilizado o scikit-learn e Statsmodels para explorar os modelos de regressores e classificadores e o Keras (TensorFlow) para o modelo de rede neural recorrente. As seções abaixo descreverão todo o processo realizado neste trabalho."
   ]
  },
  {
   "cell_type": "markdown",
   "metadata": {
    "id": "oBLogdaiYm5i"
   },
   "source": [
    "## Leitura e Pré-processamento\n",
    "\n",
    "Os dados foram adquiridos por meio de um link divulgado pelo professor, que correspondem em um conjunto de 1096 amostras, com dois atributos (data e preço), que são o preço do ouro e a data, a cada semana, desde 18/06/2000. Como estamos interessados apenas no valor do ouro, a coluna de data foi descartada. \n",
    "\n",
    "Foi tentado realizar um experimento de consideração de porcentagens (razões) entre os valores da semana corrente e a anterior. Entretanto, nenhum resultado favorável foi atingido. Dessa forma, os dados foram utilizados sem nenhum tipo de pré-processamento.\n",
    "\n",
    "\n",
    "\n"
   ]
  },
  {
   "cell_type": "markdown",
   "metadata": {
    "id": "1ZSjwimEaLwt"
   },
   "source": [
    "## Janela deslizante\n",
    "\n",
    "Como neste projeto é explorado aspectos de séries temporais, o conjunto de dados adotou uma técnica chamada \"Janela Deslizante\". Esta técnica é responsável por separar instâncias do conjunto para formar uma sequência que possibilita e facilita a regressão/classificação dos dados. \n",
    "\n",
    "Todos os modelos utilizados apresentados neste trabalho exploram a ideia de janela deslizante, exceto os modelos de RNN e o ARIMA. Isto porque eles exploram conceitos diferentes para tratar essa técnica, como o lookback (nas RNNs) e memória implícita (ARIMA)."
   ]
  },
  {
   "cell_type": "markdown",
   "metadata": {
    "id": "6-nu0sykZeWq"
   },
   "source": [
    "## Otimização de Hiperparâmetros\n",
    "\n",
    "Como diversos dos modelos explorados utilizam hiperparâmetros, foi necessário utilizar algum algoritmo de busca para identificar os melhores valores destes hiperparâmetros. Para isso, foi utilizado a biblioteca 'hyperopt', que consiste em uma otimização Bayesiana. Além das configurações de cada modelo, o tamanho da janela também foi explorada neste otimizador a fim de obter o melhor resultado possível dos modelos."
   ]
  },
  {
   "cell_type": "markdown",
   "metadata": {
    "id": "eRKEs5z7ofsX"
   },
   "source": [
    "# Benchmarks\n",
    "\n",
    "Como os preços do ouro no mercado é compreendido como um *random walk*, o  modelo de persistência para regressão prediz que o preço corrente é o mesmo que o da semana anterior. Esse é o modelo a ser superado. \n",
    "\n",
    "Para a classificação de um *random walk*, com média zero, ambas os resultados (subir ou descer) são equiprováveis e, portanto, não haveria uma melhor estratégia a ser adotada. Porém, observa-se um 'vies' de subida dos preços, ao longo do tempo, provavelmente podendo ser atribuído à inflação. Neste caso, a probabilidade de subida é maior do que a de descida e a melhor previsão é que o preço sempre sobe. "
   ]
  },
  {
   "cell_type": "markdown",
   "metadata": {
    "id": "1CF1pNJoader"
   },
   "source": [
    "## Modelos de Regressão e Classificação Utilizados\n",
    "\n",
    "Para realizar o estudo, os seguintes modelos foram explorados:\n",
    "\n",
    "- Regressão\n",
    " - SVM\n",
    " - Ridge\n",
    " - Lasso\n",
    " - GBM\n",
    " - Random Forest\n",
    " - Decision Tree\n",
    " - ARIMA\n",
    " - LSTM\n",
    " - SimpleRNN\n",
    " - MLP\n",
    "\n",
    "- Classificação\n",
    " - SVM\n",
    " - Ridge\n",
    " - GBM\n",
    " - Random Forest\n",
    " - Decision Tree\n",
    " - ARIMA\n",
    " - MLP\n",
    "\n",
    "\n",
    "Além do uso da classificação direta, foi explorado o uso de regressores como classificadores indiretos. Isto para testar a hipótese não só de que um regressor pode apresentar melhor resultado para classificação, mas também porque existem modelos que não possuem a classificação, como ARIMA e Lasso. Sendo eles:\n",
    " - SVM\n",
    " - Ridge\n",
    " - Lasso\n",
    " - GBM\n",
    " - Random Forest\n",
    " - Decision Tree\n",
    " - ARIMA\n",
    "\n",
    "\n",
    "\n"
   ]
  },
  {
   "cell_type": "markdown",
   "metadata": {
    "id": "Lkju1j7VcX6n"
   },
   "source": [
    "# Resultados"
   ]
  },
  {
   "cell_type": "markdown",
   "metadata": {
    "id": "WN4L8jlAoUhM"
   },
   "source": [
    " ## Treino\n",
    "\n",
    " "
   ]
  },
  {
   "cell_type": "markdown",
   "metadata": {
    "id": "7nlV_WregDaW"
   },
   "source": [
    "### Regressão"
   ]
  },
  {
   "cell_type": "code",
   "execution_count": 8,
   "metadata": {
    "colab": {
     "base_uri": "https://localhost:8080/",
     "height": 639
    },
    "id": "LQWIPxS7gFF8",
    "outputId": "7ade01ce-2683-4722-b2db-76adc9e68d96"
   },
   "outputs": [
    {
     "data": {
      "text/html": [
       "<div>\n",
       "<style scoped>\n",
       "    .dataframe tbody tr th:only-of-type {\n",
       "        vertical-align: middle;\n",
       "    }\n",
       "\n",
       "    .dataframe tbody tr th {\n",
       "        vertical-align: top;\n",
       "    }\n",
       "\n",
       "    .dataframe thead th {\n",
       "        text-align: right;\n",
       "    }\n",
       "</style>\n",
       "<table border=\"1\" class=\"dataframe\">\n",
       "  <thead>\n",
       "    <tr style=\"text-align: right;\">\n",
       "      <th></th>\n",
       "      <th>name</th>\n",
       "      <th>params</th>\n",
       "      <th>score</th>\n",
       "      <th>default</th>\n",
       "    </tr>\n",
       "  </thead>\n",
       "  <tbody>\n",
       "    <tr>\n",
       "      <th>0</th>\n",
       "      <td>Previous Times Constant</td>\n",
       "      <td>{'k': 1.0003}</td>\n",
       "      <td>29.4873</td>\n",
       "      <td>False</td>\n",
       "    </tr>\n",
       "    <tr>\n",
       "      <th>1</th>\n",
       "      <td>Previous Times Constant</td>\n",
       "      <td>NaN</td>\n",
       "      <td>29.4907</td>\n",
       "      <td>True</td>\n",
       "    </tr>\n",
       "    <tr>\n",
       "      <th>2</th>\n",
       "      <td>ARIMA</td>\n",
       "      <td>{'d': 1, 'p': 0, 'q': 0, 'window_size': 10}</td>\n",
       "      <td>29.5094</td>\n",
       "      <td>False</td>\n",
       "    </tr>\n",
       "    <tr>\n",
       "      <th>3</th>\n",
       "      <td>ARIMA</td>\n",
       "      <td>NaN</td>\n",
       "      <td>29.5094</td>\n",
       "      <td>True</td>\n",
       "    </tr>\n",
       "    <tr>\n",
       "      <th>4</th>\n",
       "      <td>Lasso L1</td>\n",
       "      <td>{'alpha': 108.8124, 'window_size': 1}</td>\n",
       "      <td>29.6074</td>\n",
       "      <td>False</td>\n",
       "    </tr>\n",
       "    <tr>\n",
       "      <th>5</th>\n",
       "      <td>Ridge L2</td>\n",
       "      <td>{'alpha': 999.9760, 'window_size': 1}</td>\n",
       "      <td>29.6157</td>\n",
       "      <td>False</td>\n",
       "    </tr>\n",
       "    <tr>\n",
       "      <th>6</th>\n",
       "      <td>Lasso L1</td>\n",
       "      <td>NaN</td>\n",
       "      <td>29.6158</td>\n",
       "      <td>True</td>\n",
       "    </tr>\n",
       "    <tr>\n",
       "      <th>7</th>\n",
       "      <td>Ridge L2</td>\n",
       "      <td>NaN</td>\n",
       "      <td>29.6159</td>\n",
       "      <td>True</td>\n",
       "    </tr>\n",
       "    <tr>\n",
       "      <th>8</th>\n",
       "      <td>MLP</td>\n",
       "      <td>NaN</td>\n",
       "      <td>29.7613</td>\n",
       "      <td>True</td>\n",
       "    </tr>\n",
       "    <tr>\n",
       "      <th>9</th>\n",
       "      <td>MLP</td>\n",
       "      <td>{'hidden_layer_sizes': 17, 'window_size': 1}</td>\n",
       "      <td>35.3532</td>\n",
       "      <td>False</td>\n",
       "    </tr>\n",
       "    <tr>\n",
       "      <th>10</th>\n",
       "      <td>LSTM</td>\n",
       "      <td>{'window_size': 5, 'epochs': 200, 'hidden_layers': 2, 'adam_lr': 0.005}</td>\n",
       "      <td>44.0964</td>\n",
       "      <td>False</td>\n",
       "    </tr>\n",
       "    <tr>\n",
       "      <th>11</th>\n",
       "      <td>RNN</td>\n",
       "      <td>{'window_size': 5, 'epochs': 200, 'hidden_layers': 2, 'adam_lr': 0.005}</td>\n",
       "      <td>47.0699</td>\n",
       "      <td>False</td>\n",
       "    </tr>\n",
       "    <tr>\n",
       "      <th>12</th>\n",
       "      <td>GBM</td>\n",
       "      <td>{'max_depth': 3, 'n_estimators': 100, 'window_size': 1}</td>\n",
       "      <td>87.5830</td>\n",
       "      <td>False</td>\n",
       "    </tr>\n",
       "    <tr>\n",
       "      <th>13</th>\n",
       "      <td>GBM</td>\n",
       "      <td>NaN</td>\n",
       "      <td>87.5830</td>\n",
       "      <td>True</td>\n",
       "    </tr>\n",
       "    <tr>\n",
       "      <th>14</th>\n",
       "      <td>Random Forest</td>\n",
       "      <td>NaN</td>\n",
       "      <td>90.5798</td>\n",
       "      <td>True</td>\n",
       "    </tr>\n",
       "    <tr>\n",
       "      <th>15</th>\n",
       "      <td>Random Forest</td>\n",
       "      <td>{'n_estimators': 10, 'window_size': 1}</td>\n",
       "      <td>92.1700</td>\n",
       "      <td>False</td>\n",
       "    </tr>\n",
       "    <tr>\n",
       "      <th>16</th>\n",
       "      <td>Decision Tree</td>\n",
       "      <td>{'window_size': 1}</td>\n",
       "      <td>96.4928</td>\n",
       "      <td>False</td>\n",
       "    </tr>\n",
       "    <tr>\n",
       "      <th>17</th>\n",
       "      <td>Decision Tree</td>\n",
       "      <td>NaN</td>\n",
       "      <td>96.4928</td>\n",
       "      <td>True</td>\n",
       "    </tr>\n",
       "    <tr>\n",
       "      <th>18</th>\n",
       "      <td>SVM com RBF</td>\n",
       "      <td>{'C': 2186.2851, 'epsilon': 0.02155, 'gamma': 0.0022, 'window_size': 1}</td>\n",
       "      <td>194.6730</td>\n",
       "      <td>False</td>\n",
       "    </tr>\n",
       "    <tr>\n",
       "      <th>19</th>\n",
       "      <td>SVM com RBF</td>\n",
       "      <td>NaN</td>\n",
       "      <td>525.8799</td>\n",
       "      <td>True</td>\n",
       "    </tr>\n",
       "  </tbody>\n",
       "</table>\n",
       "</div>"
      ],
      "text/plain": [
       "                       name  ... default\n",
       "0   Previous Times Constant  ...  False \n",
       "1   Previous Times Constant  ...  True  \n",
       "2   ARIMA                    ...  False \n",
       "3   ARIMA                    ...  True  \n",
       "4   Lasso L1                 ...  False \n",
       "5   Ridge L2                 ...  False \n",
       "6   Lasso L1                 ...  True  \n",
       "7   Ridge L2                 ...  True  \n",
       "8   MLP                      ...  True  \n",
       "9   MLP                      ...  False \n",
       "10  LSTM                     ...  False \n",
       "11  RNN                      ...  False \n",
       "12  GBM                      ...  False \n",
       "13  GBM                      ...  True  \n",
       "14  Random Forest            ...  True  \n",
       "15  Random Forest            ...  False \n",
       "16  Decision Tree            ...  False \n",
       "17  Decision Tree            ...  True  \n",
       "18  SVM com RBF              ...  False \n",
       "19  SVM com RBF              ...  True  \n",
       "\n",
       "[20 rows x 4 columns]"
      ]
     },
     "execution_count": 8,
     "metadata": {
      "tags": []
     },
     "output_type": "execute_result"
    }
   ],
   "source": [
    "import pandas as pd\n",
    "\n",
    "pd.set_option('display.max_colwidth', 0)\n",
    "df = pd.read_csv('/content/drive/Shareddrives/MO432/regressao_2.csv')\n",
    "df"
   ]
  },
  {
   "cell_type": "markdown",
   "metadata": {
    "id": "DW0OHqtinlQg"
   },
   "source": [
    "### Classificação com Regressores"
   ]
  },
  {
   "cell_type": "code",
   "execution_count": 10,
   "metadata": {
    "colab": {
     "base_uri": "https://localhost:8080/",
     "height": 521
    },
    "id": "6EzUhh76nmk-",
    "outputId": "606e573f-df86-4fc9-e6dd-5e2b9a7eb23a"
   },
   "outputs": [
    {
     "data": {
      "text/html": [
       "<div>\n",
       "<style scoped>\n",
       "    .dataframe tbody tr th:only-of-type {\n",
       "        vertical-align: middle;\n",
       "    }\n",
       "\n",
       "    .dataframe tbody tr th {\n",
       "        vertical-align: top;\n",
       "    }\n",
       "\n",
       "    .dataframe thead th {\n",
       "        text-align: right;\n",
       "    }\n",
       "</style>\n",
       "<table border=\"1\" class=\"dataframe\">\n",
       "  <thead>\n",
       "    <tr style=\"text-align: right;\">\n",
       "      <th></th>\n",
       "      <th>name</th>\n",
       "      <th>params</th>\n",
       "      <th>score</th>\n",
       "      <th>default</th>\n",
       "    </tr>\n",
       "  </thead>\n",
       "  <tbody>\n",
       "    <tr>\n",
       "      <th>0</th>\n",
       "      <td>ArimaRegressor</td>\n",
       "      <td>{'d': 0, 'p': 2, 'q': 0, 'window_size': 10}</td>\n",
       "      <td>0.536</td>\n",
       "      <td>False</td>\n",
       "    </tr>\n",
       "    <tr>\n",
       "      <th>1</th>\n",
       "      <td>MLP</td>\n",
       "      <td>NaN</td>\n",
       "      <td>0.526</td>\n",
       "      <td>True</td>\n",
       "    </tr>\n",
       "    <tr>\n",
       "      <th>2</th>\n",
       "      <td>Lasso L1</td>\n",
       "      <td>{'alpha': 0.0660, 'window_size': 2}</td>\n",
       "      <td>0.520</td>\n",
       "      <td>False</td>\n",
       "    </tr>\n",
       "    <tr>\n",
       "      <th>3</th>\n",
       "      <td>SVM com RBF</td>\n",
       "      <td>{'C': 2362.0528, 'epsilon': 0.02995, 'gamma': 0.0027, 'window_size': 2}</td>\n",
       "      <td>0.516</td>\n",
       "      <td>False</td>\n",
       "    </tr>\n",
       "    <tr>\n",
       "      <th>4</th>\n",
       "      <td>ArimaRegressor</td>\n",
       "      <td>NaN</td>\n",
       "      <td>0.516</td>\n",
       "      <td>True</td>\n",
       "    </tr>\n",
       "    <tr>\n",
       "      <th>5</th>\n",
       "      <td>Ridge L2</td>\n",
       "      <td>{'alpha': 0.0070, 'window_size': 2}</td>\n",
       "      <td>0.514</td>\n",
       "      <td>False</td>\n",
       "    </tr>\n",
       "    <tr>\n",
       "      <th>6</th>\n",
       "      <td>Ridge L2</td>\n",
       "      <td>NaN</td>\n",
       "      <td>0.514</td>\n",
       "      <td>True</td>\n",
       "    </tr>\n",
       "    <tr>\n",
       "      <th>7</th>\n",
       "      <td>Lasso L1</td>\n",
       "      <td>NaN</td>\n",
       "      <td>0.514</td>\n",
       "      <td>True</td>\n",
       "    </tr>\n",
       "    <tr>\n",
       "      <th>8</th>\n",
       "      <td>MLP</td>\n",
       "      <td>{'hidden_layer_sizes': 18, 'window_size': 4}</td>\n",
       "      <td>0.508</td>\n",
       "      <td>False</td>\n",
       "    </tr>\n",
       "    <tr>\n",
       "      <th>9</th>\n",
       "      <td>GBM</td>\n",
       "      <td>{'max_depth': 4, 'n_estimators': 100, 'window_size': 1}</td>\n",
       "      <td>0.506</td>\n",
       "      <td>False</td>\n",
       "    </tr>\n",
       "    <tr>\n",
       "      <th>10</th>\n",
       "      <td>SVM com RBF</td>\n",
       "      <td>NaN</td>\n",
       "      <td>0.502</td>\n",
       "      <td>True</td>\n",
       "    </tr>\n",
       "    <tr>\n",
       "      <th>11</th>\n",
       "      <td>Decision Tree</td>\n",
       "      <td>NaN</td>\n",
       "      <td>0.496</td>\n",
       "      <td>True</td>\n",
       "    </tr>\n",
       "    <tr>\n",
       "      <th>12</th>\n",
       "      <td>GBM</td>\n",
       "      <td>NaN</td>\n",
       "      <td>0.488</td>\n",
       "      <td>True</td>\n",
       "    </tr>\n",
       "    <tr>\n",
       "      <th>13</th>\n",
       "      <td>Decision Tree</td>\n",
       "      <td>{'window_size': 2}</td>\n",
       "      <td>0.486</td>\n",
       "      <td>False</td>\n",
       "    </tr>\n",
       "    <tr>\n",
       "      <th>14</th>\n",
       "      <td>Random Forest</td>\n",
       "      <td>{'n_estimators': 10, 'window_size': 2}</td>\n",
       "      <td>0.474</td>\n",
       "      <td>False</td>\n",
       "    </tr>\n",
       "    <tr>\n",
       "      <th>15</th>\n",
       "      <td>Random Forest</td>\n",
       "      <td>NaN</td>\n",
       "      <td>0.474</td>\n",
       "      <td>True</td>\n",
       "    </tr>\n",
       "  </tbody>\n",
       "</table>\n",
       "</div>"
      ],
      "text/plain": [
       "              name  ... default\n",
       "0   ArimaRegressor  ...  False \n",
       "1   MLP             ...  True  \n",
       "2   Lasso L1        ...  False \n",
       "3   SVM com RBF     ...  False \n",
       "4   ArimaRegressor  ...  True  \n",
       "5   Ridge L2        ...  False \n",
       "6   Ridge L2        ...  True  \n",
       "7   Lasso L1        ...  True  \n",
       "8   MLP             ...  False \n",
       "9   GBM             ...  False \n",
       "10  SVM com RBF     ...  True  \n",
       "11  Decision Tree   ...  True  \n",
       "12  GBM             ...  True  \n",
       "13  Decision Tree   ...  False \n",
       "14  Random Forest   ...  False \n",
       "15  Random Forest   ...  True  \n",
       "\n",
       "[16 rows x 4 columns]"
      ]
     },
     "execution_count": 10,
     "metadata": {
      "tags": []
     },
     "output_type": "execute_result"
    }
   ],
   "source": [
    "df = pd.read_csv('/content/drive/Shareddrives/MO432/classificacao_usando_regressao_2.csv')\n",
    "df"
   ]
  },
  {
   "cell_type": "markdown",
   "metadata": {
    "id": "q9x-OJzTnf_l"
   },
   "source": [
    "### Classificação Direta"
   ]
  },
  {
   "cell_type": "code",
   "execution_count": 9,
   "metadata": {
    "colab": {
     "base_uri": "https://localhost:8080/",
     "height": 462
    },
    "id": "P4V_WK8dmi5e",
    "outputId": "cbd9efed-7271-4f2a-b75a-ef62d98ca58a"
   },
   "outputs": [
    {
     "data": {
      "text/html": [
       "<div>\n",
       "<style scoped>\n",
       "    .dataframe tbody tr th:only-of-type {\n",
       "        vertical-align: middle;\n",
       "    }\n",
       "\n",
       "    .dataframe tbody tr th {\n",
       "        vertical-align: top;\n",
       "    }\n",
       "\n",
       "    .dataframe thead th {\n",
       "        text-align: right;\n",
       "    }\n",
       "</style>\n",
       "<table border=\"1\" class=\"dataframe\">\n",
       "  <thead>\n",
       "    <tr style=\"text-align: right;\">\n",
       "      <th></th>\n",
       "      <th>name</th>\n",
       "      <th>params</th>\n",
       "      <th>score</th>\n",
       "      <th>default</th>\n",
       "    </tr>\n",
       "  </thead>\n",
       "  <tbody>\n",
       "    <tr>\n",
       "      <th>0</th>\n",
       "      <td>SVC com RBF</td>\n",
       "      <td>{'C': 12.1897, 'gamma': 0.6141, 'window_size': 1}</td>\n",
       "      <td>0.560</td>\n",
       "      <td>False</td>\n",
       "    </tr>\n",
       "    <tr>\n",
       "      <th>1</th>\n",
       "      <td>Ridge L2</td>\n",
       "      <td>{'alpha': 1.5256, 'window_size': 7}</td>\n",
       "      <td>0.532</td>\n",
       "      <td>False</td>\n",
       "    </tr>\n",
       "    <tr>\n",
       "      <th>2</th>\n",
       "      <td>Ridge L2</td>\n",
       "      <td>NaN</td>\n",
       "      <td>0.532</td>\n",
       "      <td>True</td>\n",
       "    </tr>\n",
       "    <tr>\n",
       "      <th>3</th>\n",
       "      <td>Always 1</td>\n",
       "      <td>NaN</td>\n",
       "      <td>0.528</td>\n",
       "      <td>False</td>\n",
       "    </tr>\n",
       "    <tr>\n",
       "      <th>4</th>\n",
       "      <td>Always 1</td>\n",
       "      <td>NaN</td>\n",
       "      <td>0.528</td>\n",
       "      <td>True</td>\n",
       "    </tr>\n",
       "    <tr>\n",
       "      <th>5</th>\n",
       "      <td>Decision Tree</td>\n",
       "      <td>{'max_depth': 2, 'window_size': 1}</td>\n",
       "      <td>0.528</td>\n",
       "      <td>False</td>\n",
       "    </tr>\n",
       "    <tr>\n",
       "      <th>6</th>\n",
       "      <td>MLP</td>\n",
       "      <td>{'hidden_layer_sizes': 20, 'window_size': 2}</td>\n",
       "      <td>0.520</td>\n",
       "      <td>False</td>\n",
       "    </tr>\n",
       "    <tr>\n",
       "      <th>7</th>\n",
       "      <td>MLP</td>\n",
       "      <td>NaN</td>\n",
       "      <td>0.514</td>\n",
       "      <td>True</td>\n",
       "    </tr>\n",
       "    <tr>\n",
       "      <th>8</th>\n",
       "      <td>SVC com RBF</td>\n",
       "      <td>NaN</td>\n",
       "      <td>0.510</td>\n",
       "      <td>True</td>\n",
       "    </tr>\n",
       "    <tr>\n",
       "      <th>9</th>\n",
       "      <td>GBM</td>\n",
       "      <td>{'max_depth': 4, 'n_estimators': 10, 'window_size': 3}</td>\n",
       "      <td>0.506</td>\n",
       "      <td>False</td>\n",
       "    </tr>\n",
       "    <tr>\n",
       "      <th>10</th>\n",
       "      <td>Random Forest</td>\n",
       "      <td>{'n_estimators': 10, 'window_size': 2}</td>\n",
       "      <td>0.500</td>\n",
       "      <td>False</td>\n",
       "    </tr>\n",
       "    <tr>\n",
       "      <th>11</th>\n",
       "      <td>Random Forest</td>\n",
       "      <td>NaN</td>\n",
       "      <td>0.492</td>\n",
       "      <td>True</td>\n",
       "    </tr>\n",
       "    <tr>\n",
       "      <th>12</th>\n",
       "      <td>GBM</td>\n",
       "      <td>NaN</td>\n",
       "      <td>0.486</td>\n",
       "      <td>True</td>\n",
       "    </tr>\n",
       "    <tr>\n",
       "      <th>13</th>\n",
       "      <td>Decision Tree</td>\n",
       "      <td>NaN</td>\n",
       "      <td>0.480</td>\n",
       "      <td>True</td>\n",
       "    </tr>\n",
       "  </tbody>\n",
       "</table>\n",
       "</div>"
      ],
      "text/plain": [
       "             name  ... default\n",
       "0   SVC com RBF    ...  False \n",
       "1   Ridge L2       ...  False \n",
       "2   Ridge L2       ...  True  \n",
       "3   Always 1       ...  False \n",
       "4   Always 1       ...  True  \n",
       "5   Decision Tree  ...  False \n",
       "6   MLP            ...  False \n",
       "7   MLP            ...  True  \n",
       "8   SVC com RBF    ...  True  \n",
       "9   GBM            ...  False \n",
       "10  Random Forest  ...  False \n",
       "11  Random Forest  ...  True  \n",
       "12  GBM            ...  True  \n",
       "13  Decision Tree  ...  True  \n",
       "\n",
       "[14 rows x 4 columns]"
      ]
     },
     "execution_count": 9,
     "metadata": {
      "tags": []
     },
     "output_type": "execute_result"
    }
   ],
   "source": [
    "df = pd.read_csv('/content/drive/Shareddrives/MO432/classificacao_2.csv')\n",
    "df"
   ]
  },
  {
   "cell_type": "markdown",
   "metadata": {
    "id": "ct7ts5Rpof4z"
   },
   "source": [
    "### Análise dos resultados\n",
    "\n",
    "\n",
    "No caso da regressão, não foi possível encontrar um resultado melhor do que aquele que repete o preço da semana anterior, com pequeno acrescimo em função do pequeno viés de subida dos dados. A classificação com regressão, também não obteve bons resultados, se comparado à classificação direta. Por sua vez, o único resultado considerável na classificação direta, foi utilizando o modelo SVC, com acurácia de **56%**, significativamente superior à previsão de subida contínua (Always 1), com **52,8%**."
   ]
  },
  {
   "cell_type": "markdown",
   "metadata": {
    "id": "1LWBAAmZzSsr"
   },
   "source": [
    "## Teste"
   ]
  },
  {
   "cell_type": "markdown",
   "metadata": {
    "id": "GdxdvpcIzV25"
   },
   "source": [
    "### Regressão"
   ]
  },
  {
   "cell_type": "code",
   "execution_count": 14,
   "metadata": {
    "colab": {
     "base_uri": "https://localhost:8080/",
     "height": 320
    },
    "id": "mStbkTpJzVYk",
    "outputId": "678023f8-c23f-435b-822f-5b2b60646df6"
   },
   "outputs": [
    {
     "data": {
      "image/png": "[encoded data removed]",
      "text/plain": [
       "<Figure size 1008x360 with 1 Axes>"
      ]
     },
     "metadata": {
      "needs_background": "light",
      "tags": []
     },
     "output_type": "display_data"
    }
   ],
   "source": [
    "import matplotlib.pyplot as plt\n",
    "\n",
    "df_regressao = pd.read_csv('/content/drive/Shareddrives/MO432/pred_regressao.csv')\n",
    "\n",
    "plt.figure(figsize=(14,5))\n",
    "plt.plot(df_regressao['x_test'], label = 'Valor real do ouro')\n",
    "plt.plot(df_regressao['y_pred'], label = 'Valor do ouro predito preditos')\n",
    "plt.ylabel('Valor em $')\n",
    "plt.legend()\n",
    "plt.show()\n",
    "\n"
   ]
  },
  {
   "cell_type": "markdown",
   "metadata": {
    "id": "L6DZvfPR1COq"
   },
   "source": [
    "RMSE de 43.846886993100505 para o conjunto de teste."
   ]
  },
  {
   "cell_type": "markdown",
   "metadata": {
    "id": "ek-0L4ep05x2"
   },
   "source": [
    "### Classificação"
   ]
  },
  {
   "cell_type": "code",
   "execution_count": 15,
   "metadata": {
    "colab": {
     "base_uri": "https://localhost:8080/",
     "height": 320
    },
    "id": "DeGkCpht08Ss",
    "outputId": "fed38d58-b029-4260-b163-2f8b582b330f"
   },
   "outputs": [
    {
     "data": {
      "image/png": "[encoded data removed]",
      "text/plain": [
       "<Figure size 1008x360 with 1 Axes>"
      ]
     },
     "metadata": {
      "needs_background": "light",
      "tags": []
     },
     "output_type": "display_data"
    }
   ],
   "source": [
    "import matplotlib.pyplot as plt\n",
    "\n",
    "df_class = pd.read_csv('/content/drive/Shareddrives/MO432/pred_classificacao.csv')\n",
    "\n",
    "plt.figure(figsize=(14,5))\n",
    "plt.plot(df_class['y_test'], label = 'Avaliação real do ouro')\n",
    "plt.plot(df_class['y_pred'], label = 'Avaliaçaõ predita do ouro')\n",
    "plt.ylabel('Valor subir ou descer')\n",
    "plt.legend()\n",
    "plt.show()\n"
   ]
  },
  {
   "cell_type": "markdown",
   "metadata": {
    "id": "FXHXpmeU1JbC"
   },
   "source": [
    "Acurácia de 0.58 para a base de teste"
   ]
  },
  {
   "cell_type": "markdown",
   "metadata": {
    "id": "08l6z_l2zxP1"
   },
   "source": [
    "Como discutido anteriormente, o melhor regressor apenas prevê na semana corrente o mesmo preço da semana anterior, com uma pequena correção multiplicativa. Já o classificador SVC, ao analisar sua saída, constatou-se que este previu que os preços sempre subiriam. Portanto, apenas de todos os esforços de todos os diferentes regressores e classificadores, confirmou-se o esperado para um processo do tipo *random walk*, que não é possível fazer uma previsão/classificação ingênua. "
   ]
  }
 ],
 "metadata": {
  "colab": {
   "collapsed_sections": [],
   "name": "Tarefa 3 - Aprendizado supervisionado - MO432.ipynb",
   "provenance": []
  },
  "kernelspec": {
   "display_name": "Python 3",
   "language": "python",
   "name": "python3"
  },
  "language_info": {
   "codemirror_mode": {
    "name": "ipython",
    "version": 3
   },
   "file_extension": ".py",
   "mimetype": "text/x-python",
   "name": "python",
   "nbconvert_exporter": "python",
   "pygments_lexer": "ipython3",
   "version": "3.8.6"
  }
 },
 "nbformat": 4,
 "nbformat_minor": 1
}
