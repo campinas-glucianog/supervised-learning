{
 "cells": [
  {
   "cell_type": "markdown",
   "metadata": {
    "id": "Sjk_R75_tRhW"
   },
   "source": [
    "# **Tarefa 1**: Aprendizado supervisionado -  MO432\n",
    "Universidade Estadual de Campinas (UNICAMP), Instituto de Computação (IC)\n",
    "\n",
    "Prof. Jacques Wainer, 2021s1\n"
   ]
  },
  {
   "cell_type": "code",
   "execution_count": null,
   "metadata": {
    "colab": {
     "base_uri": "https://localhost:8080/"
    },
    "id": "BMk6OAsMtPxL",
    "outputId": "cd0d4def-66c7-47e5-a1cd-1b0dcc78c99c"
   },
   "outputs": [
    {
     "name": "stdout",
     "output_type": "stream",
     "text": [
      "265673: Gabriel Luciano Gomes\n",
      "264965: Décio Luiz Gazzoni Filho\n",
      "192880: Lucas Borges Rondon\n"
     ]
    }
   ],
   "source": [
    "# RA & Name\n",
    "print('265673: ' + 'Gabriel Luciano Gomes')\n",
    "print('264965: ' + 'Décio Luiz Gazzoni Filho')\n",
    "print('192880: ' + 'Lucas Borges Rondon')"
   ]
  },
  {
   "cell_type": "markdown",
   "metadata": {
    "id": "PqGUe8Fkufco"
   },
   "source": [
    "## Leitura da base de dados"
   ]
  },
  {
   "cell_type": "code",
   "execution_count": 1,
   "metadata": {
    "colab": {
     "base_uri": "https://localhost:8080/",
     "height": 202
    },
    "id": "e1Crv5lF07s2",
    "outputId": "2c95d5d6-30b4-4b8c-a6e4-b5a159639b85"
   },
   "outputs": [
    {
     "data": {
      "text/html": [
       "<div>\n",
       "<style scoped>\n",
       "    .dataframe tbody tr th:only-of-type {\n",
       "        vertical-align: middle;\n",
       "    }\n",
       "\n",
       "    .dataframe tbody tr th {\n",
       "        vertical-align: top;\n",
       "    }\n",
       "\n",
       "    .dataframe thead th {\n",
       "        text-align: right;\n",
       "    }\n",
       "</style>\n",
       "<table border=\"1\" class=\"dataframe\">\n",
       "  <thead>\n",
       "    <tr style=\"text-align: right;\">\n",
       "      <th></th>\n",
       "      <th>0</th>\n",
       "      <th>1</th>\n",
       "      <th>2</th>\n",
       "      <th>3</th>\n",
       "      <th>4</th>\n",
       "      <th>5</th>\n",
       "      <th>6</th>\n",
       "      <th>7</th>\n",
       "      <th>8</th>\n",
       "      <th>9</th>\n",
       "      <th>10</th>\n",
       "      <th>11</th>\n",
       "      <th>12</th>\n",
       "    </tr>\n",
       "  </thead>\n",
       "  <tbody>\n",
       "    <tr>\n",
       "      <th>0</th>\n",
       "      <td>H</td>\n",
       "      <td>A</td>\n",
       "      <td>X</td>\n",
       "      <td>1</td>\n",
       "      <td>3</td>\n",
       "      <td>1</td>\n",
       "      <td>1</td>\n",
       "      <td>1</td>\n",
       "      <td>1</td>\n",
       "      <td>1</td>\n",
       "      <td>0</td>\n",
       "      <td>0</td>\n",
       "      <td>0</td>\n",
       "    </tr>\n",
       "    <tr>\n",
       "      <th>1</th>\n",
       "      <td>D</td>\n",
       "      <td>R</td>\n",
       "      <td>O</td>\n",
       "      <td>1</td>\n",
       "      <td>3</td>\n",
       "      <td>1</td>\n",
       "      <td>1</td>\n",
       "      <td>2</td>\n",
       "      <td>1</td>\n",
       "      <td>1</td>\n",
       "      <td>0</td>\n",
       "      <td>0</td>\n",
       "      <td>0</td>\n",
       "    </tr>\n",
       "    <tr>\n",
       "      <th>2</th>\n",
       "      <td>C</td>\n",
       "      <td>S</td>\n",
       "      <td>O</td>\n",
       "      <td>1</td>\n",
       "      <td>3</td>\n",
       "      <td>1</td>\n",
       "      <td>1</td>\n",
       "      <td>2</td>\n",
       "      <td>1</td>\n",
       "      <td>1</td>\n",
       "      <td>0</td>\n",
       "      <td>0</td>\n",
       "      <td>0</td>\n",
       "    </tr>\n",
       "    <tr>\n",
       "      <th>3</th>\n",
       "      <td>H</td>\n",
       "      <td>R</td>\n",
       "      <td>X</td>\n",
       "      <td>1</td>\n",
       "      <td>2</td>\n",
       "      <td>1</td>\n",
       "      <td>1</td>\n",
       "      <td>1</td>\n",
       "      <td>1</td>\n",
       "      <td>1</td>\n",
       "      <td>0</td>\n",
       "      <td>0</td>\n",
       "      <td>0</td>\n",
       "    </tr>\n",
       "    <tr>\n",
       "      <th>4</th>\n",
       "      <td>H</td>\n",
       "      <td>S</td>\n",
       "      <td>X</td>\n",
       "      <td>1</td>\n",
       "      <td>1</td>\n",
       "      <td>1</td>\n",
       "      <td>1</td>\n",
       "      <td>2</td>\n",
       "      <td>1</td>\n",
       "      <td>1</td>\n",
       "      <td>0</td>\n",
       "      <td>0</td>\n",
       "      <td>0</td>\n",
       "    </tr>\n",
       "  </tbody>\n",
       "</table>\n",
       "</div>"
      ],
      "text/plain": [
       "  0  1  2   3   4   5   6   7   8   9   10  11  12\n",
       "0  H  A  X   1   3   1   1   1   1   1   0   0   0\n",
       "1  D  R  O   1   3   1   1   2   1   1   0   0   0\n",
       "2  C  S  O   1   3   1   1   2   1   1   0   0   0\n",
       "3  H  R  X   1   2   1   1   1   1   1   0   0   0\n",
       "4  H  S  X   1   1   1   1   2   1   1   0   0   0"
      ]
     },
     "execution_count": 1,
     "metadata": {
      "tags": []
     },
     "output_type": "execute_result"
    }
   ],
   "source": [
    "import pandas as pd\n",
    "import requests\n",
    "import io\n",
    "\n",
    "url = \"https://www.ic.unicamp.br/~wainer/cursos/1s2021/432/solar-flare.csv\"\n",
    "s = requests.get(url).content\n",
    "\n",
    "db = pd.read_csv(io.StringIO(s.decode('utf-8')),\n",
    "                 skiprows = 1,\n",
    "                 header = None, \n",
    "                 delim_whitespace = True)\n",
    "db.head()"
   ]
  },
  {
   "cell_type": "markdown",
   "metadata": {
    "id": "wCdnTSj72byF"
   },
   "source": [
    "### Remover colunas de predição da base de dados"
   ]
  },
  {
   "cell_type": "code",
   "execution_count": 2,
   "metadata": {
    "id": "DFyMsNGK2jxF"
   },
   "outputs": [],
   "source": [
    "output_3 = db.pop(db.columns[-1])\n",
    "output_2 = db.pop(db.columns[-1])\n",
    "output_1 = db.pop(db.columns[-1])"
   ]
  },
  {
   "cell_type": "markdown",
   "metadata": {
    "id": "FAYooDkK4IBu"
   },
   "source": [
    "## Conversão de dados categóricos para numéricos"
   ]
  },
  {
   "cell_type": "code",
   "execution_count": 3,
   "metadata": {
    "colab": {
     "base_uri": "https://localhost:8080/",
     "height": 202
    },
    "id": "TI_2yaQRq1ID",
    "outputId": "9cab80cc-a5df-4452-ee59-263de35c11d6"
   },
   "outputs": [
    {
     "data": {
      "text/html": [
       "<div>\n",
       "<style scoped>\n",
       "    .dataframe tbody tr th:only-of-type {\n",
       "        vertical-align: middle;\n",
       "    }\n",
       "\n",
       "    .dataframe tbody tr th {\n",
       "        vertical-align: top;\n",
       "    }\n",
       "\n",
       "    .dataframe thead th {\n",
       "        text-align: right;\n",
       "    }\n",
       "</style>\n",
       "<table border=\"1\" class=\"dataframe\">\n",
       "  <thead>\n",
       "    <tr style=\"text-align: right;\">\n",
       "      <th></th>\n",
       "      <th>3</th>\n",
       "      <th>4</th>\n",
       "      <th>5</th>\n",
       "      <th>6</th>\n",
       "      <th>7</th>\n",
       "      <th>8</th>\n",
       "      <th>9</th>\n",
       "      <th>0_B</th>\n",
       "      <th>0_C</th>\n",
       "      <th>0_D</th>\n",
       "      <th>0_E</th>\n",
       "      <th>0_F</th>\n",
       "      <th>0_H</th>\n",
       "      <th>1_A</th>\n",
       "      <th>1_H</th>\n",
       "      <th>1_K</th>\n",
       "      <th>1_R</th>\n",
       "      <th>1_S</th>\n",
       "      <th>1_X</th>\n",
       "      <th>2_C</th>\n",
       "      <th>2_I</th>\n",
       "      <th>2_O</th>\n",
       "      <th>2_X</th>\n",
       "    </tr>\n",
       "  </thead>\n",
       "  <tbody>\n",
       "    <tr>\n",
       "      <th>0</th>\n",
       "      <td>1</td>\n",
       "      <td>3</td>\n",
       "      <td>1</td>\n",
       "      <td>1</td>\n",
       "      <td>1</td>\n",
       "      <td>1</td>\n",
       "      <td>1</td>\n",
       "      <td>0</td>\n",
       "      <td>0</td>\n",
       "      <td>0</td>\n",
       "      <td>0</td>\n",
       "      <td>0</td>\n",
       "      <td>1</td>\n",
       "      <td>1</td>\n",
       "      <td>0</td>\n",
       "      <td>0</td>\n",
       "      <td>0</td>\n",
       "      <td>0</td>\n",
       "      <td>0</td>\n",
       "      <td>0</td>\n",
       "      <td>0</td>\n",
       "      <td>0</td>\n",
       "      <td>1</td>\n",
       "    </tr>\n",
       "    <tr>\n",
       "      <th>1</th>\n",
       "      <td>1</td>\n",
       "      <td>3</td>\n",
       "      <td>1</td>\n",
       "      <td>1</td>\n",
       "      <td>2</td>\n",
       "      <td>1</td>\n",
       "      <td>1</td>\n",
       "      <td>0</td>\n",
       "      <td>0</td>\n",
       "      <td>1</td>\n",
       "      <td>0</td>\n",
       "      <td>0</td>\n",
       "      <td>0</td>\n",
       "      <td>0</td>\n",
       "      <td>0</td>\n",
       "      <td>0</td>\n",
       "      <td>1</td>\n",
       "      <td>0</td>\n",
       "      <td>0</td>\n",
       "      <td>0</td>\n",
       "      <td>0</td>\n",
       "      <td>1</td>\n",
       "      <td>0</td>\n",
       "    </tr>\n",
       "    <tr>\n",
       "      <th>2</th>\n",
       "      <td>1</td>\n",
       "      <td>3</td>\n",
       "      <td>1</td>\n",
       "      <td>1</td>\n",
       "      <td>2</td>\n",
       "      <td>1</td>\n",
       "      <td>1</td>\n",
       "      <td>0</td>\n",
       "      <td>1</td>\n",
       "      <td>0</td>\n",
       "      <td>0</td>\n",
       "      <td>0</td>\n",
       "      <td>0</td>\n",
       "      <td>0</td>\n",
       "      <td>0</td>\n",
       "      <td>0</td>\n",
       "      <td>0</td>\n",
       "      <td>1</td>\n",
       "      <td>0</td>\n",
       "      <td>0</td>\n",
       "      <td>0</td>\n",
       "      <td>1</td>\n",
       "      <td>0</td>\n",
       "    </tr>\n",
       "    <tr>\n",
       "      <th>3</th>\n",
       "      <td>1</td>\n",
       "      <td>2</td>\n",
       "      <td>1</td>\n",
       "      <td>1</td>\n",
       "      <td>1</td>\n",
       "      <td>1</td>\n",
       "      <td>1</td>\n",
       "      <td>0</td>\n",
       "      <td>0</td>\n",
       "      <td>0</td>\n",
       "      <td>0</td>\n",
       "      <td>0</td>\n",
       "      <td>1</td>\n",
       "      <td>0</td>\n",
       "      <td>0</td>\n",
       "      <td>0</td>\n",
       "      <td>1</td>\n",
       "      <td>0</td>\n",
       "      <td>0</td>\n",
       "      <td>0</td>\n",
       "      <td>0</td>\n",
       "      <td>0</td>\n",
       "      <td>1</td>\n",
       "    </tr>\n",
       "    <tr>\n",
       "      <th>4</th>\n",
       "      <td>1</td>\n",
       "      <td>1</td>\n",
       "      <td>1</td>\n",
       "      <td>1</td>\n",
       "      <td>2</td>\n",
       "      <td>1</td>\n",
       "      <td>1</td>\n",
       "      <td>0</td>\n",
       "      <td>0</td>\n",
       "      <td>0</td>\n",
       "      <td>0</td>\n",
       "      <td>0</td>\n",
       "      <td>1</td>\n",
       "      <td>0</td>\n",
       "      <td>0</td>\n",
       "      <td>0</td>\n",
       "      <td>0</td>\n",
       "      <td>1</td>\n",
       "      <td>0</td>\n",
       "      <td>0</td>\n",
       "      <td>0</td>\n",
       "      <td>0</td>\n",
       "      <td>1</td>\n",
       "    </tr>\n",
       "  </tbody>\n",
       "</table>\n",
       "</div>"
      ],
      "text/plain": [
       "   3  4  5  6  7  8  9  0_B  0_C  ...  1_H  1_K  1_R  1_S  1_X  2_C  2_I  2_O  2_X\n",
       "0  1  3  1  1  1  1  1    0    0  ...    0    0    0    0    0    0    0    0    1\n",
       "1  1  3  1  1  2  1  1    0    0  ...    0    0    1    0    0    0    0    1    0\n",
       "2  1  3  1  1  2  1  1    0    1  ...    0    0    0    1    0    0    0    1    0\n",
       "3  1  2  1  1  1  1  1    0    0  ...    0    0    1    0    0    0    0    0    1\n",
       "4  1  1  1  1  2  1  1    0    0  ...    0    0    0    1    0    0    0    0    1\n",
       "\n",
       "[5 rows x 23 columns]"
      ]
     },
     "execution_count": 3,
     "metadata": {
      "tags": []
     },
     "output_type": "execute_result"
    }
   ],
   "source": [
    "db_formatted = pd.get_dummies(db)\n",
    "\n",
    "db_formatted.head()"
   ]
  },
  {
   "cell_type": "markdown",
   "metadata": {
    "id": "cPqgAK5DrWmP"
   },
   "source": [
    "Ao realizar a conversão dos valores categóricos para numéricos, pode-se perceber que as três primeiras columas, foram transformadas em colunas adicionais à direita. O padrão de formação resultate é i_C, onde i é a coluna na qual a categoria C foi extraída."
   ]
  },
  {
   "cell_type": "markdown",
   "metadata": {
    "id": "pKE1ewSO4kMY"
   },
   "source": [
    "## Centering e Scaling dos dados"
   ]
  },
  {
   "cell_type": "code",
   "execution_count": 4,
   "metadata": {
    "colab": {
     "base_uri": "https://localhost:8080/"
    },
    "id": "Az3q5u1F4mxl",
    "outputId": "9b9969fc-93bc-48b7-8fc4-71f37fd88bad"
   },
   "outputs": [
    {
     "data": {
      "text/plain": [
       "array([[-0.42640143,  0.96486532, -0.18458572, ..., -0.5143262 ,\n",
       "        -0.89991511,  1.49014892],\n",
       "       [-0.42640143,  0.96486532, -0.18458572, ..., -0.5143262 ,\n",
       "         1.11121593, -0.67107387],\n",
       "       [-0.42640143,  0.96486532, -0.18458572, ..., -0.5143262 ,\n",
       "         1.11121593, -0.67107387],\n",
       "       ...,\n",
       "       [-0.42640143, -0.64727642, -0.18458572, ..., -0.5143262 ,\n",
       "         1.11121593, -0.67107387],\n",
       "       [-0.42640143, -0.64727642, -0.18458572, ..., -0.5143262 ,\n",
       "        -0.89991511,  1.49014892],\n",
       "       [-0.42640143, -2.25941816, -0.18458572, ..., -0.5143262 ,\n",
       "         1.11121593, -0.67107387]])"
      ]
     },
     "execution_count": 4,
     "metadata": {
      "tags": []
     },
     "output_type": "execute_result"
    }
   ],
   "source": [
    "from sklearn.preprocessing import StandardScaler\n",
    "\n",
    "scaler = StandardScaler(copy=True, with_mean=True, with_std=True)\n",
    "db_preprocessed = scaler.fit_transform(db_formatted)\n",
    "\n",
    "db_preprocessed"
   ]
  },
  {
   "cell_type": "markdown",
   "metadata": {
    "id": "O_13F1zY6vv9"
   },
   "source": [
    "## PCA"
   ]
  },
  {
   "cell_type": "markdown",
   "metadata": {
    "id": "mqpUNS2Z1Tpo"
   },
   "source": [
    "### Número de dimensões mantendo 90% da variância dos dados"
   ]
  },
  {
   "cell_type": "code",
   "execution_count": 12,
   "metadata": {
    "colab": {
     "base_uri": "https://localhost:8080/"
    },
    "id": "t30Jfqb27a9o",
    "outputId": "7ac12ed8-34be-4837-df19-1e8ef21ef91b"
   },
   "outputs": [
    {
     "name": "stdout",
     "output_type": "stream",
     "text": [
      "Quantidade de dimensões mantendo 90% da variância: 13\n"
     ]
    }
   ],
   "source": [
    "from sklearn.decomposition import PCA\n",
    "\n",
    "pca = PCA(0.9)\n",
    "pca_fit = pca.fit_transform(db_preprocessed)\n",
    "S_90 = pca_fit.shape[1]\n",
    "\n",
    "print(f'Quantidade de dimensões mantendo 90% da variância: {S_90}')"
   ]
  },
  {
   "cell_type": "markdown",
   "metadata": {
    "id": "Ela-wqkc1gI1"
   },
   "source": [
    "### Número de dimensões mantidas utilizando Scree Plot"
   ]
  },
  {
   "cell_type": "code",
   "execution_count": 31,
   "metadata": {
    "colab": {
     "base_uri": "https://localhost:8080/",
     "height": 350
    },
    "id": "aszaM2NN1otK",
    "outputId": "111255c1-c83c-4879-ee2c-6123e91395c9"
   },
   "outputs": [
    {
     "data": {
      "image/png": "[encoded data removed]",
      "text/plain": [
       "<Figure size 576x360 with 1 Axes>"
      ]
     },
     "metadata": {
      "needs_background": "light",
      "tags": []
     },
     "output_type": "display_data"
    }
   ],
   "source": [
    "import matplotlib\n",
    "import matplotlib.pyplot as plt\n",
    "import numpy as np\n",
    "\n",
    "num_vars = db_preprocessed.shape[1]\n",
    "pca_full = PCA(num_vars)\n",
    "pca_full.fit_transform(db_preprocessed)\n",
    "eigvals = pca_full.explained_variance_ratio_ * 100\n",
    "\n",
    "eigvals_sum = np.cumsum(eigvals)\n",
    "\n",
    "fig = plt.figure(figsize=(8,5))\n",
    "sing_vals = np.arange(num_vars) + 1\n",
    "plt.plot(sing_vals, eigvals, 'ro-', linewidth=2)\n",
    "plt.plot(sing_vals, eigvals_sum, 'bo-', linewidth=2)\n",
    "plt.hlines(90, 0, 13, 'k', 'dashed')\n",
    "plt.vlines(13, -5, 90, 'k', 'dashed')\n",
    "plt.yticks(np.arange(0, 110, step=10))\n",
    "plt.xticks([1, 5, 10, 13, 15, 20, 23])\n",
    "plt.title('Scree Plot')\n",
    "plt.xlabel('Principal Component')\n",
    "plt.ylabel('Percent of Total Variance')\n",
    "leg = plt.legend(['Explained Percentage Variance', 'Cumulative Explained Percentage Variance'], loc='best', borderpad=0.3, \n",
    "                 shadow=False, prop=matplotlib.font_manager.FontProperties(size='small'),\n",
    "                 markerscale=0.4)\n",
    "leg.get_frame().set_alpha(0.4)\n",
    "plt.show()\n",
    "\n",
    "# cumsum"
   ]
  },
  {
   "cell_type": "markdown",
   "metadata": {
    "id": "du8YPE-v1r1l"
   },
   "source": [
    "### Conversão dos dados utiizando PCA com 90% das variâncias"
   ]
  },
  {
   "cell_type": "code",
   "execution_count": 32,
   "metadata": {
    "colab": {
     "base_uri": "https://localhost:8080/"
    },
    "id": "xh5wHt7z1wnB",
    "outputId": "6bc4838c-674f-4534-b67c-49208bc460a0"
   },
   "outputs": [
    {
     "name": "stdout",
     "output_type": "stream",
     "text": [
      "Reduced Data shape: (1066, 13)\n"
     ]
    }
   ],
   "source": [
    "from sklearn.decomposition import PCA\n",
    "\n",
    "pca = PCA(n_components=13)\n",
    "reduced_db_preprocessed = pca.fit_transform(db_preprocessed)\n",
    "\n",
    "# Shape of reduced_db_preprocessed\n",
    "print(f'Reduced Data shape: {reduced_db_preprocessed.shape}')"
   ]
  },
  {
   "cell_type": "markdown",
   "metadata": {
    "id": "bNxqg82a0a3x"
   },
   "source": [
    "## Validação Cruzada e Regressão Linear"
   ]
  },
  {
   "cell_type": "code",
   "execution_count": 65,
   "metadata": {
    "colab": {
     "base_uri": "https://localhost:8080/"
    },
    "id": "AbgPR6hN0tm2",
    "outputId": "17a87423-89dd-4f2c-f193-4c4922f1fc23"
   },
   "outputs": [
    {
     "name": "stdout",
     "output_type": "stream",
     "text": [
      "(1/5) MAE \t Output1: 0.349921 Output2: 0.349921 Output3: 0.349921\n",
      "(1/5) RMSE \t Output1: 0.372058 Output2: 0.372058 Output3: 0.372058\n",
      "(2/5) MAE \t Output1: 0.348277 Output2: 0.348277 Output3: 0.348277\n",
      "(2/5) RMSE \t Output1: 0.369843 Output2: 0.369843 Output3: 0.369843\n",
      "(3/5) MAE \t Output1: 0.353466 Output2: 0.353466 Output3: 0.353466\n",
      "(3/5) RMSE \t Output1: 0.381818 Output2: 0.381818 Output3: 0.381818\n",
      "(4/5) MAE \t Output1: 0.348572 Output2: 0.348572 Output3: 0.348572\n",
      "(4/5) RMSE \t Output1: 0.370241 Output2: 0.370241 Output3: 0.370241\n",
      "(5/5) MAE \t Output1: 0.354527 Output2: 0.354527 Output3: 0.354527\n",
      "(5/5) RMSE \t Output1: 0.378465 Output2: 0.378465 Output3: 0.378465\n",
      "======================================================================\n",
      "Mean MAE \t Output1: 0.416672 Output2: 0.416672 Output3: 0.416672\n",
      "Mean RMSE \t Output1: 0.553123 Output2: 0.553123 Output3: 0.553123\n"
     ]
    }
   ],
   "source": [
    "from statistics import mean\n",
    "from sklearn.model_selection import ShuffleSplit\n",
    "from sklearn.linear_model import LinearRegression\n",
    "from sklearn.metrics import mean_absolute_error, mean_squared_error\n",
    "\n",
    "rs = ShuffleSplit(n_splits=5, test_size=.3, random_state=0)\n",
    "\n",
    "mae_outputs = [[]] * 3\n",
    "rmse_outputs = [[]] * 3\n",
    "\n",
    "iterator = 0\n",
    "for train_index, test_index in rs.split(reduced_db_preprocessed):  \n",
    "  # aux lists\n",
    "  split_outputs   = [] \n",
    "  reg_outputs     = []\n",
    "  outputs_predict = []\n",
    "\n",
    "  # train and test splits\n",
    "  split_train = reduced_db_preprocessed[train_index]\n",
    "  split_test = reduced_db_preprocessed[test_index]\n",
    "\n",
    "  # train and test 'label'\n",
    "  split_outputs.append((output_1[train_index], output_1[test_index]))  \n",
    "  split_outputs.append((output_2[train_index], output_2[test_index]))  \n",
    "  split_outputs.append((output_3[train_index], output_3[test_index]))\n",
    "  \n",
    "  for i in range(0, 3):\n",
    "    # Training\n",
    "    reg_outputs.append(LinearRegression().fit(split_train, split_outputs[i][0]))\n",
    "\n",
    "    # Testing\n",
    "    outputs_predict.append(reg_outputs[i].predict(split_test))\n",
    "\n",
    "    # MAE scores\n",
    "    mae_outputs[0].append(\n",
    "      mean_absolute_error(split_outputs[i][1], output1_predict))\n",
    "    \n",
    "    # RMSE scores\n",
    "    rmse_outputs[0].append(\n",
    "      np.sqrt(mean_squared_error(split_outputs[i][1], output1_predict)))\n",
    "\n",
    "  print(f'({iterator+1}/5) MAE \\t Output1: {mae_outputs[0][-1]:5f}'\n",
    "        + f' Output2: {mae_outputs[1][-1]:5f} Output3: {mae_outputs[2][-1]:5f}')\n",
    "\n",
    "  print(f'({iterator+1}/5) RMSE \\t Output1: {rmse_outputs[0][-1]:5f}'\n",
    "        + f' Output2: {rmse_outputs[1][-1]:5f} Output3: {rmse_outputs[2][-1]:5f}')\n",
    "\n",
    "  iterator += 1\n",
    "\n",
    "print('=' * 70)\n",
    "print(f'Mean MAE \\t Output1: {mean(mae_outputs[0]):5f}' \n",
    "      + f' Output2: {mean(mae_outputs[1]):5f} Output3: {mean(mae_outputs[2]):5f}')\n",
    "print(f'Mean RMSE \\t Output1: {mean(rmse_outputs[0]):5f}'\n",
    "      + f' Output2: {mean(rmse_outputs[1]):5f} Output3: {mean(rmse_outputs[2]):5f}')"
   ]
  }
 ],
 "metadata": {
  "colab": {
   "collapsed_sections": [],
   "name": "Tarefa 1.ipynb",
   "provenance": []
  },
  "kernelspec": {
   "display_name": "Python 3",
   "language": "python",
   "name": "python3"
  },
  "language_info": {
   "codemirror_mode": {
    "name": "ipython",
    "version": 3
   },
   "file_extension": ".py",
   "mimetype": "text/x-python",
   "name": "python",
   "nbconvert_exporter": "python",
   "pygments_lexer": "ipython3",
   "version": "3.8.6"
  }
 },
 "nbformat": 4,
 "nbformat_minor": 1
}
