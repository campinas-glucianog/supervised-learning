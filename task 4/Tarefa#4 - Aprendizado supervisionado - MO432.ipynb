{
 "cells": [
  {
   "cell_type": "markdown",
   "metadata": {
    "id": "RkYuUs9ep9Pp"
   },
   "source": [
    "Universidade Estadual de Campinas (UNICAMP), Instituto de Computação (IC)\n",
    "\n",
    "Prof. Jacques Wainer, 2021s1"
   ]
  },
  {
   "cell_type": "code",
   "execution_count": null,
   "metadata": {
    "colab": {
     "base_uri": "https://localhost:8080/"
    },
    "id": "SmB0BNceqNXe",
    "outputId": "ebd01798-da75-4c25-e78f-a7a4ff72b132"
   },
   "outputs": [
    {
     "name": "stdout",
     "output_type": "stream",
     "text": [
      "264965: Décio Luiz Gazzoni Filho\n",
      "265673: Gabriel Luciano Gomes\n",
      "192880: Lucas Borges Rondon\n"
     ]
    }
   ],
   "source": [
    "# RA & Name\n",
    "print('264965: ' + 'Décio Luiz Gazzoni Filho')\n",
    "print('265673: ' + 'Gabriel Luciano Gomes')\n",
    "print('192880: ' + 'Lucas Borges Rondon')"
   ]
  },
  {
   "cell_type": "markdown",
   "metadata": {
    "id": "jLXrUjEMqXRa"
   },
   "source": [
    "# Leitura da base de dados"
   ]
  },
  {
   "cell_type": "code",
   "execution_count": null,
   "metadata": {
    "colab": {
     "base_uri": "https://localhost:8080/",
     "height": 204
    },
    "id": "x_llltAZqaPG",
    "outputId": "b679d444-d941-4275-d4f3-3c8215e8423a"
   },
   "outputs": [
    {
     "data": {
      "text/html": [
       "<div>\n",
       "<style scoped>\n",
       "    .dataframe tbody tr th:only-of-type {\n",
       "        vertical-align: middle;\n",
       "    }\n",
       "\n",
       "    .dataframe tbody tr th {\n",
       "        vertical-align: top;\n",
       "    }\n",
       "\n",
       "    .dataframe thead th {\n",
       "        text-align: right;\n",
       "    }\n",
       "</style>\n",
       "<table border=\"1\" class=\"dataframe\">\n",
       "  <thead>\n",
       "    <tr style=\"text-align: right;\">\n",
       "      <th></th>\n",
       "      <th>V1</th>\n",
       "      <th>V2</th>\n",
       "      <th>V3</th>\n",
       "      <th>V4</th>\n",
       "      <th>V5</th>\n",
       "      <th>V6</th>\n",
       "      <th>V7</th>\n",
       "      <th>V8</th>\n",
       "      <th>V9</th>\n",
       "      <th>V10</th>\n",
       "      <th>V11</th>\n",
       "      <th>V12</th>\n",
       "      <th>V13</th>\n",
       "      <th>V14</th>\n",
       "      <th>V15</th>\n",
       "    </tr>\n",
       "  </thead>\n",
       "  <tbody>\n",
       "    <tr>\n",
       "      <th>0</th>\n",
       "      <td>1</td>\n",
       "      <td>22.08</td>\n",
       "      <td>11.46</td>\n",
       "      <td>2</td>\n",
       "      <td>k</td>\n",
       "      <td>bb</td>\n",
       "      <td>1.585</td>\n",
       "      <td>0</td>\n",
       "      <td>0</td>\n",
       "      <td>0</td>\n",
       "      <td>1</td>\n",
       "      <td>g</td>\n",
       "      <td>100</td>\n",
       "      <td>1213</td>\n",
       "      <td>0</td>\n",
       "    </tr>\n",
       "    <tr>\n",
       "      <th>1</th>\n",
       "      <td>0</td>\n",
       "      <td>22.67</td>\n",
       "      <td>7.00</td>\n",
       "      <td>2</td>\n",
       "      <td>c</td>\n",
       "      <td>bb</td>\n",
       "      <td>0.165</td>\n",
       "      <td>0</td>\n",
       "      <td>0</td>\n",
       "      <td>0</td>\n",
       "      <td>0</td>\n",
       "      <td>g</td>\n",
       "      <td>160</td>\n",
       "      <td>1</td>\n",
       "      <td>0</td>\n",
       "    </tr>\n",
       "    <tr>\n",
       "      <th>2</th>\n",
       "      <td>0</td>\n",
       "      <td>29.58</td>\n",
       "      <td>1.75</td>\n",
       "      <td>1</td>\n",
       "      <td>k</td>\n",
       "      <td>bb</td>\n",
       "      <td>1.250</td>\n",
       "      <td>0</td>\n",
       "      <td>0</td>\n",
       "      <td>0</td>\n",
       "      <td>1</td>\n",
       "      <td>g</td>\n",
       "      <td>280</td>\n",
       "      <td>1</td>\n",
       "      <td>0</td>\n",
       "    </tr>\n",
       "    <tr>\n",
       "      <th>3</th>\n",
       "      <td>0</td>\n",
       "      <td>21.67</td>\n",
       "      <td>11.50</td>\n",
       "      <td>1</td>\n",
       "      <td>j</td>\n",
       "      <td>j</td>\n",
       "      <td>0.000</td>\n",
       "      <td>1</td>\n",
       "      <td>1</td>\n",
       "      <td>11</td>\n",
       "      <td>1</td>\n",
       "      <td>g</td>\n",
       "      <td>0</td>\n",
       "      <td>1</td>\n",
       "      <td>1</td>\n",
       "    </tr>\n",
       "    <tr>\n",
       "      <th>4</th>\n",
       "      <td>1</td>\n",
       "      <td>20.17</td>\n",
       "      <td>8.17</td>\n",
       "      <td>2</td>\n",
       "      <td>aa</td>\n",
       "      <td>bb</td>\n",
       "      <td>1.960</td>\n",
       "      <td>1</td>\n",
       "      <td>1</td>\n",
       "      <td>14</td>\n",
       "      <td>0</td>\n",
       "      <td>g</td>\n",
       "      <td>60</td>\n",
       "      <td>159</td>\n",
       "      <td>1</td>\n",
       "    </tr>\n",
       "  </tbody>\n",
       "</table>\n",
       "</div>"
      ],
      "text/plain": [
       "   V1     V2     V3  V4  V5  V6     V7  V8  V9  V10  V11 V12  V13   V14  V15\n",
       "0   1  22.08  11.46   2   k  bb  1.585   0   0    0    1   g  100  1213    0\n",
       "1   0  22.67   7.00   2   c  bb  0.165   0   0    0    0   g  160     1    0\n",
       "2   0  29.58   1.75   1   k  bb  1.250   0   0    0    1   g  280     1    0\n",
       "3   0  21.67  11.50   1   j   j  0.000   1   1   11    1   g    0     1    1\n",
       "4   1  20.17   8.17   2  aa  bb  1.960   1   1   14    0   g   60   159    1"
      ]
     },
     "execution_count": 2,
     "metadata": {
      "tags": []
     },
     "output_type": "execute_result"
    }
   ],
   "source": [
    "import pandas as pd\n",
    "import requests\n",
    "import io\n",
    "\n",
    "url = \"https://www.ic.unicamp.br/~wainer/cursos/1s2021/432/dados4.csv\"\n",
    "s = requests.get(url).content\n",
    "\n",
    "db = pd.read_csv(io.StringIO(s.decode('utf-8')))\n",
    "db.head()"
   ]
  },
  {
   "cell_type": "code",
   "execution_count": null,
   "metadata": {
    "colab": {
     "base_uri": "https://localhost:8080/"
    },
    "id": "IilOxBXvtPGS",
    "outputId": "3bee9618-c2fa-4aa5-eac4-32d5bcc546a4"
   },
   "outputs": [
    {
     "name": "stdout",
     "output_type": "stream",
     "text": [
      "A base de dados possui 690 instâncias com 15 atributos.\n"
     ]
    }
   ],
   "source": [
    "print(f'A base de dados possui {db.shape[0]} instâncias com {db.shape[1]} atributos.')"
   ]
  },
  {
   "cell_type": "markdown",
   "metadata": {
    "id": "7SlG2IeBq4CM"
   },
   "source": [
    "# Pré-processamento dos dados"
   ]
  },
  {
   "cell_type": "markdown",
   "metadata": {
    "id": "v-U_vBBrxt_k"
   },
   "source": [
    "## Identificando e removendo valores faltantes (caso exista)"
   ]
  },
  {
   "cell_type": "code",
   "execution_count": null,
   "metadata": {
    "colab": {
     "base_uri": "https://localhost:8080/"
    },
    "id": "zIjVnuCKxz51",
    "outputId": "4a06615e-5479-40fa-f5a4-fce8b2f3a37b"
   },
   "outputs": [
    {
     "data": {
      "text/plain": [
       "V1     0\n",
       "V2     0\n",
       "V3     0\n",
       "V4     0\n",
       "V5     0\n",
       "V6     0\n",
       "V7     0\n",
       "V8     0\n",
       "V9     0\n",
       "V10    0\n",
       "V11    0\n",
       "V12    0\n",
       "V13    0\n",
       "V14    0\n",
       "V15    0\n",
       "dtype: int64"
      ]
     },
     "execution_count": 4,
     "metadata": {
      "tags": []
     },
     "output_type": "execute_result"
    }
   ],
   "source": [
    "# Verificar se existem valores desconhecidos na base de dados\n",
    "db.isna().sum()"
   ]
  },
  {
   "cell_type": "markdown",
   "metadata": {
    "id": "iKHqUgBeuxYF"
   },
   "source": [
    "## Separação em X/y"
   ]
  },
  {
   "cell_type": "code",
   "execution_count": null,
   "metadata": {
    "id": "32nV-Wp9uzWd"
   },
   "outputs": [],
   "source": [
    "y = db['V15']\n",
    "db.drop('V15', axis=1, inplace=True)\n",
    "X = db"
   ]
  },
  {
   "cell_type": "code",
   "execution_count": null,
   "metadata": {
    "colab": {
     "base_uri": "https://localhost:8080/"
    },
    "id": "30KInEHnu-IR",
    "outputId": "e6d34801-dab6-4fe3-b5a1-c9ea8310327b"
   },
   "outputs": [
    {
     "data": {
      "text/plain": [
       "((690, 14), (690,))"
      ]
     },
     "execution_count": 6,
     "metadata": {
      "tags": []
     },
     "output_type": "execute_result"
    }
   ],
   "source": [
    "X.shape, y.shape"
   ]
  },
  {
   "cell_type": "markdown",
   "metadata": {
    "id": "DzZua2lpuDju"
   },
   "source": [
    "## Conversão dos dados categórios para numéricos"
   ]
  },
  {
   "cell_type": "code",
   "execution_count": null,
   "metadata": {
    "colab": {
     "base_uri": "https://localhost:8080/",
     "height": 204
    },
    "id": "a7nbcd9suGux",
    "outputId": "87ce89e8-69ef-4fa2-9a7c-089ac2139bfe"
   },
   "outputs": [
    {
     "data": {
      "text/html": [
       "<div>\n",
       "<style scoped>\n",
       "    .dataframe tbody tr th:only-of-type {\n",
       "        vertical-align: middle;\n",
       "    }\n",
       "\n",
       "    .dataframe tbody tr th {\n",
       "        vertical-align: top;\n",
       "    }\n",
       "\n",
       "    .dataframe thead th {\n",
       "        text-align: right;\n",
       "    }\n",
       "</style>\n",
       "<table border=\"1\" class=\"dataframe\">\n",
       "  <thead>\n",
       "    <tr style=\"text-align: right;\">\n",
       "      <th></th>\n",
       "      <th>V1</th>\n",
       "      <th>V2</th>\n",
       "      <th>V3</th>\n",
       "      <th>V4</th>\n",
       "      <th>V7</th>\n",
       "      <th>V8</th>\n",
       "      <th>V9</th>\n",
       "      <th>V10</th>\n",
       "      <th>V11</th>\n",
       "      <th>V13</th>\n",
       "      <th>V14</th>\n",
       "      <th>V5_aa</th>\n",
       "      <th>V5_c</th>\n",
       "      <th>V5_cc</th>\n",
       "      <th>V5_d</th>\n",
       "      <th>V5_e</th>\n",
       "      <th>V5_ff</th>\n",
       "      <th>V5_i</th>\n",
       "      <th>V5_j</th>\n",
       "      <th>V5_k</th>\n",
       "      <th>V5_m</th>\n",
       "      <th>V5_q</th>\n",
       "      <th>V5_r</th>\n",
       "      <th>V5_w</th>\n",
       "      <th>V5_x</th>\n",
       "      <th>V6_bb</th>\n",
       "      <th>V6_dd</th>\n",
       "      <th>V6_ff</th>\n",
       "      <th>V6_h</th>\n",
       "      <th>V6_j</th>\n",
       "      <th>V6_o</th>\n",
       "      <th>V6_v</th>\n",
       "      <th>V6_z</th>\n",
       "      <th>V12_g</th>\n",
       "      <th>V12_p</th>\n",
       "      <th>V12_s</th>\n",
       "    </tr>\n",
       "  </thead>\n",
       "  <tbody>\n",
       "    <tr>\n",
       "      <th>0</th>\n",
       "      <td>1</td>\n",
       "      <td>22.08</td>\n",
       "      <td>11.46</td>\n",
       "      <td>2</td>\n",
       "      <td>1.585</td>\n",
       "      <td>0</td>\n",
       "      <td>0</td>\n",
       "      <td>0</td>\n",
       "      <td>1</td>\n",
       "      <td>100</td>\n",
       "      <td>1213</td>\n",
       "      <td>0</td>\n",
       "      <td>0</td>\n",
       "      <td>0</td>\n",
       "      <td>0</td>\n",
       "      <td>0</td>\n",
       "      <td>0</td>\n",
       "      <td>0</td>\n",
       "      <td>0</td>\n",
       "      <td>1</td>\n",
       "      <td>0</td>\n",
       "      <td>0</td>\n",
       "      <td>0</td>\n",
       "      <td>0</td>\n",
       "      <td>0</td>\n",
       "      <td>1</td>\n",
       "      <td>0</td>\n",
       "      <td>0</td>\n",
       "      <td>0</td>\n",
       "      <td>0</td>\n",
       "      <td>0</td>\n",
       "      <td>0</td>\n",
       "      <td>0</td>\n",
       "      <td>1</td>\n",
       "      <td>0</td>\n",
       "      <td>0</td>\n",
       "    </tr>\n",
       "    <tr>\n",
       "      <th>1</th>\n",
       "      <td>0</td>\n",
       "      <td>22.67</td>\n",
       "      <td>7.00</td>\n",
       "      <td>2</td>\n",
       "      <td>0.165</td>\n",
       "      <td>0</td>\n",
       "      <td>0</td>\n",
       "      <td>0</td>\n",
       "      <td>0</td>\n",
       "      <td>160</td>\n",
       "      <td>1</td>\n",
       "      <td>0</td>\n",
       "      <td>1</td>\n",
       "      <td>0</td>\n",
       "      <td>0</td>\n",
       "      <td>0</td>\n",
       "      <td>0</td>\n",
       "      <td>0</td>\n",
       "      <td>0</td>\n",
       "      <td>0</td>\n",
       "      <td>0</td>\n",
       "      <td>0</td>\n",
       "      <td>0</td>\n",
       "      <td>0</td>\n",
       "      <td>0</td>\n",
       "      <td>1</td>\n",
       "      <td>0</td>\n",
       "      <td>0</td>\n",
       "      <td>0</td>\n",
       "      <td>0</td>\n",
       "      <td>0</td>\n",
       "      <td>0</td>\n",
       "      <td>0</td>\n",
       "      <td>1</td>\n",
       "      <td>0</td>\n",
       "      <td>0</td>\n",
       "    </tr>\n",
       "    <tr>\n",
       "      <th>2</th>\n",
       "      <td>0</td>\n",
       "      <td>29.58</td>\n",
       "      <td>1.75</td>\n",
       "      <td>1</td>\n",
       "      <td>1.250</td>\n",
       "      <td>0</td>\n",
       "      <td>0</td>\n",
       "      <td>0</td>\n",
       "      <td>1</td>\n",
       "      <td>280</td>\n",
       "      <td>1</td>\n",
       "      <td>0</td>\n",
       "      <td>0</td>\n",
       "      <td>0</td>\n",
       "      <td>0</td>\n",
       "      <td>0</td>\n",
       "      <td>0</td>\n",
       "      <td>0</td>\n",
       "      <td>0</td>\n",
       "      <td>1</td>\n",
       "      <td>0</td>\n",
       "      <td>0</td>\n",
       "      <td>0</td>\n",
       "      <td>0</td>\n",
       "      <td>0</td>\n",
       "      <td>1</td>\n",
       "      <td>0</td>\n",
       "      <td>0</td>\n",
       "      <td>0</td>\n",
       "      <td>0</td>\n",
       "      <td>0</td>\n",
       "      <td>0</td>\n",
       "      <td>0</td>\n",
       "      <td>1</td>\n",
       "      <td>0</td>\n",
       "      <td>0</td>\n",
       "    </tr>\n",
       "    <tr>\n",
       "      <th>3</th>\n",
       "      <td>0</td>\n",
       "      <td>21.67</td>\n",
       "      <td>11.50</td>\n",
       "      <td>1</td>\n",
       "      <td>0.000</td>\n",
       "      <td>1</td>\n",
       "      <td>1</td>\n",
       "      <td>11</td>\n",
       "      <td>1</td>\n",
       "      <td>0</td>\n",
       "      <td>1</td>\n",
       "      <td>0</td>\n",
       "      <td>0</td>\n",
       "      <td>0</td>\n",
       "      <td>0</td>\n",
       "      <td>0</td>\n",
       "      <td>0</td>\n",
       "      <td>0</td>\n",
       "      <td>1</td>\n",
       "      <td>0</td>\n",
       "      <td>0</td>\n",
       "      <td>0</td>\n",
       "      <td>0</td>\n",
       "      <td>0</td>\n",
       "      <td>0</td>\n",
       "      <td>0</td>\n",
       "      <td>0</td>\n",
       "      <td>0</td>\n",
       "      <td>0</td>\n",
       "      <td>1</td>\n",
       "      <td>0</td>\n",
       "      <td>0</td>\n",
       "      <td>0</td>\n",
       "      <td>1</td>\n",
       "      <td>0</td>\n",
       "      <td>0</td>\n",
       "    </tr>\n",
       "    <tr>\n",
       "      <th>4</th>\n",
       "      <td>1</td>\n",
       "      <td>20.17</td>\n",
       "      <td>8.17</td>\n",
       "      <td>2</td>\n",
       "      <td>1.960</td>\n",
       "      <td>1</td>\n",
       "      <td>1</td>\n",
       "      <td>14</td>\n",
       "      <td>0</td>\n",
       "      <td>60</td>\n",
       "      <td>159</td>\n",
       "      <td>1</td>\n",
       "      <td>0</td>\n",
       "      <td>0</td>\n",
       "      <td>0</td>\n",
       "      <td>0</td>\n",
       "      <td>0</td>\n",
       "      <td>0</td>\n",
       "      <td>0</td>\n",
       "      <td>0</td>\n",
       "      <td>0</td>\n",
       "      <td>0</td>\n",
       "      <td>0</td>\n",
       "      <td>0</td>\n",
       "      <td>0</td>\n",
       "      <td>1</td>\n",
       "      <td>0</td>\n",
       "      <td>0</td>\n",
       "      <td>0</td>\n",
       "      <td>0</td>\n",
       "      <td>0</td>\n",
       "      <td>0</td>\n",
       "      <td>0</td>\n",
       "      <td>1</td>\n",
       "      <td>0</td>\n",
       "      <td>0</td>\n",
       "    </tr>\n",
       "  </tbody>\n",
       "</table>\n",
       "</div>"
      ],
      "text/plain": [
       "   V1     V2     V3  V4     V7  V8  ...  V6_o  V6_v  V6_z  V12_g  V12_p  V12_s\n",
       "0   1  22.08  11.46   2  1.585   0  ...     0     0     0      1      0      0\n",
       "1   0  22.67   7.00   2  0.165   0  ...     0     0     0      1      0      0\n",
       "2   0  29.58   1.75   1  1.250   0  ...     0     0     0      1      0      0\n",
       "3   0  21.67  11.50   1  0.000   1  ...     0     0     0      1      0      0\n",
       "4   1  20.17   8.17   2  1.960   1  ...     0     0     0      1      0      0\n",
       "\n",
       "[5 rows x 36 columns]"
      ]
     },
     "execution_count": 7,
     "metadata": {
      "tags": []
     },
     "output_type": "execute_result"
    }
   ],
   "source": [
    "X = pd.get_dummies(X, prefix=['V5', 'V6', 'V12'])\n",
    "X.head()"
   ]
  },
  {
   "cell_type": "markdown",
   "metadata": {
    "id": "FirAq0p8vxIF"
   },
   "source": [
    "## Scaling e Centering dos dados"
   ]
  },
  {
   "cell_type": "code",
   "execution_count": null,
   "metadata": {
    "colab": {
     "base_uri": "https://localhost:8080/"
    },
    "id": "0iVsH_n8vzCw",
    "outputId": "6935466a-b2b6-4431-b185-52410e53185e"
   },
   "outputs": [
    {
     "data": {
      "text/plain": [
       "array([[ 0.68873723, -0.80105183,  1.34711063, ...,  0.32249031,\n",
       "        -0.10830607, -0.30007898],\n",
       "       [-1.45193254, -0.75124044,  0.45054795, ...,  0.32249031,\n",
       "        -0.10830607, -0.30007898],\n",
       "       [-1.45193254, -0.16785619, -0.60482292, ...,  0.32249031,\n",
       "        -0.10830607, -0.30007898],\n",
       "       ...,\n",
       "       [-1.45193254, -1.07543661,  0.96114643, ...,  0.32249031,\n",
       "        -0.10830607, -0.30007898],\n",
       "       [-1.45193254, -0.35021653,  1.95822062, ...,  0.32249031,\n",
       "        -0.10830607, -0.30007898],\n",
       "       [ 0.68873723,  0.79628971, -0.94857229, ..., -3.10086836,\n",
       "        -0.10830607,  3.33245602]])"
      ]
     },
     "execution_count": 8,
     "metadata": {
      "tags": []
     },
     "output_type": "execute_result"
    }
   ],
   "source": [
    "from sklearn.preprocessing import StandardScaler\n",
    "\n",
    "scaler = StandardScaler()\n",
    "X_scaled = scaler.fit_transform(X)\n",
    "X_scaled"
   ]
  },
  {
   "cell_type": "markdown",
   "metadata": {
    "id": "hjJ55PUy5ecm"
   },
   "source": [
    "# Códigos auxiliares"
   ]
  },
  {
   "cell_type": "code",
   "execution_count": null,
   "metadata": {
    "id": "x_k-H3M95dpa"
   },
   "outputs": [],
   "source": [
    "from sklearn.model_selection import RandomizedSearchCV, StratifiedKFold, train_test_split\n",
    "from sklearn.utils._testing import ignore_warnings\n",
    "from sklearn.exceptions import ConvergenceWarning\n",
    "import numpy as np\n",
    "\n",
    "def find_hyperparams(model, space, X, y, cv, n_iter = 10):\n",
    "  search = RandomizedSearchCV(model,\n",
    "                        space,\n",
    "                        n_iter = n_iter,\n",
    "                        scoring = 'roc_auc',\n",
    "                        n_jobs = -1,\n",
    "                        cv = cv)\n",
    "  return search.fit(X,y)\n",
    "\n",
    "def best_results(model, X, y, space, n_iter):\n",
    "\n",
    "  score_outer = []\n",
    "\n",
    "  for i in range(4):  \n",
    "    X_train, X_test, y_train, y_test = train_test_split(X, y, test_size=0.30,\n",
    "                                                        random_state=i)\n",
    "\n",
    "    # inner score\n",
    "    inner_cv = StratifiedKFold(n_splits=3)\n",
    "    clf = find_hyperparams(model, space, X_train, y_train, inner_cv, n_iter)\n",
    "\n",
    "    # outer score\n",
    "    score = clf.score(X_test, y_test)\n",
    "\n",
    "    score_outer.append(score)\n",
    "\n",
    "  return np.mean(score_outer)\n",
    "\n",
    "@ignore_warnings(category=ConvergenceWarning)\n",
    "def compute_outer_score(models, X, y):\n",
    "\n",
    "  model_results = []\n",
    "\n",
    "  for name, model, space, n_iter in models:\n",
    "    result = best_results(model, X, y, space, n_iter)\n",
    "    model_results.append({'model': name, \n",
    "                          'AUC'  : result})\n",
    "  return pd.DataFrame(model_results)  "
   ]
  },
  {
   "cell_type": "markdown",
   "metadata": {
    "id": "I8X9ZGI0ES4X"
   },
   "source": [
    "# Treino dos modelos"
   ]
  },
  {
   "cell_type": "code",
   "execution_count": null,
   "metadata": {
    "colab": {
     "base_uri": "https://localhost:8080/",
     "height": 557
    },
    "id": "0WJj7hYnEUkd",
    "outputId": "c9127a41-ee13-4ebb-8344-a2bf127d98f8"
   },
   "outputs": [
    {
     "name": "stderr",
     "output_type": "stream",
     "text": [
      "/usr/local/lib/python3.7/dist-packages/sklearn/discriminant_analysis.py:691: UserWarning: Variables are collinear\n",
      "  warnings.warn(\"Variables are collinear\")\n",
      "/usr/local/lib/python3.7/dist-packages/sklearn/discriminant_analysis.py:691: UserWarning: Variables are collinear\n",
      "  warnings.warn(\"Variables are collinear\")\n",
      "/usr/local/lib/python3.7/dist-packages/sklearn/discriminant_analysis.py:691: UserWarning: Variables are collinear\n",
      "  warnings.warn(\"Variables are collinear\")\n",
      "/usr/local/lib/python3.7/dist-packages/sklearn/discriminant_analysis.py:691: UserWarning: Variables are collinear\n",
      "  warnings.warn(\"Variables are collinear\")\n"
     ]
    },
    {
     "data": {
      "text/html": [
       "<div>\n",
       "<style scoped>\n",
       "    .dataframe tbody tr th:only-of-type {\n",
       "        vertical-align: middle;\n",
       "    }\n",
       "\n",
       "    .dataframe tbody tr th {\n",
       "        vertical-align: top;\n",
       "    }\n",
       "\n",
       "    .dataframe thead th {\n",
       "        text-align: right;\n",
       "    }\n",
       "</style>\n",
       "<table border=\"1\" class=\"dataframe\">\n",
       "  <thead>\n",
       "    <tr style=\"text-align: right;\">\n",
       "      <th></th>\n",
       "      <th>model</th>\n",
       "      <th>AUC</th>\n",
       "    </tr>\n",
       "  </thead>\n",
       "  <tbody>\n",
       "    <tr>\n",
       "      <th>0</th>\n",
       "      <td>Logistic Regression</td>\n",
       "      <td>0.899217</td>\n",
       "    </tr>\n",
       "    <tr>\n",
       "      <th>1</th>\n",
       "      <td>Logistic Regression with L2 penalty</td>\n",
       "      <td>0.927371</td>\n",
       "    </tr>\n",
       "    <tr>\n",
       "      <th>2</th>\n",
       "      <td>LDA</td>\n",
       "      <td>0.928781</td>\n",
       "    </tr>\n",
       "    <tr>\n",
       "      <th>3</th>\n",
       "      <td>QDA</td>\n",
       "      <td>0.825241</td>\n",
       "    </tr>\n",
       "    <tr>\n",
       "      <th>4</th>\n",
       "      <td>SVC Linear</td>\n",
       "      <td>0.922557</td>\n",
       "    </tr>\n",
       "    <tr>\n",
       "      <th>5</th>\n",
       "      <td>SVC RBF</td>\n",
       "      <td>0.918747</td>\n",
       "    </tr>\n",
       "    <tr>\n",
       "      <th>6</th>\n",
       "      <td>Naive Bayes</td>\n",
       "      <td>0.838479</td>\n",
       "    </tr>\n",
       "    <tr>\n",
       "      <th>7</th>\n",
       "      <td>KNN</td>\n",
       "      <td>0.910143</td>\n",
       "    </tr>\n",
       "    <tr>\n",
       "      <th>8</th>\n",
       "      <td>MLP</td>\n",
       "      <td>0.911183</td>\n",
       "    </tr>\n",
       "    <tr>\n",
       "      <th>9</th>\n",
       "      <td>Decision Tree</td>\n",
       "      <td>0.903408</td>\n",
       "    </tr>\n",
       "    <tr>\n",
       "      <th>10</th>\n",
       "      <td>Random Forest</td>\n",
       "      <td>0.937497</td>\n",
       "    </tr>\n",
       "    <tr>\n",
       "      <th>11</th>\n",
       "      <td>GBM</td>\n",
       "      <td>0.937722</td>\n",
       "    </tr>\n",
       "  </tbody>\n",
       "</table>\n",
       "</div>"
      ],
      "text/plain": [
       "                                  model       AUC\n",
       "0                   Logistic Regression  0.899217\n",
       "1   Logistic Regression with L2 penalty  0.927371\n",
       "2                                   LDA  0.928781\n",
       "3                                   QDA  0.825241\n",
       "4                            SVC Linear  0.922557\n",
       "5                               SVC RBF  0.918747\n",
       "6                           Naive Bayes  0.838479\n",
       "7                                   KNN  0.910143\n",
       "8                                   MLP  0.911183\n",
       "9                         Decision Tree  0.903408\n",
       "10                        Random Forest  0.937497\n",
       "11                                  GBM  0.937722"
      ]
     },
     "execution_count": 10,
     "metadata": {
      "tags": []
     },
     "output_type": "execute_result"
    }
   ],
   "source": [
    "from sklearn.linear_model import LogisticRegression, RidgeClassifier\n",
    "from sklearn.discriminant_analysis import LinearDiscriminantAnalysis, QuadraticDiscriminantAnalysis\n",
    "from sklearn.svm import SVC\n",
    "from scipy.stats import loguniform, uniform\n",
    "from sklearn.naive_bayes import GaussianNB\n",
    "from sklearn.neighbors import KNeighborsClassifier\n",
    "from sklearn.neural_network import MLPClassifier\n",
    "from sklearn.tree import DecisionTreeClassifier\n",
    "from sklearn.ensemble import GradientBoostingClassifier, RandomForestClassifier\n",
    "\n",
    "models = []\n",
    "\n",
    "# MODEL LOGISTIC REGRESSION\n",
    "models.append(('Logistic Regression',\n",
    "              LogisticRegression(penalty='none'),\n",
    "              {},\n",
    "              1))\n",
    "\n",
    "# MODEL LOGISTIC REGRESSION WITH L2 PENALTY\n",
    "models.append(('Logistic Regression with L2 penalty',\n",
    "              LogisticRegression(),\n",
    "              {'C': loguniform(10**-3, 10**3)},\n",
    "              10))\n",
    "\n",
    "# MODEL LDA\n",
    "models.append(('LDA',\n",
    "              LinearDiscriminantAnalysis(),\n",
    "              {},\n",
    "              1))\n",
    "\n",
    "# MODEL QDA\n",
    "models.append(('QDA',\n",
    "              QuadraticDiscriminantAnalysis(),\n",
    "              {},\n",
    "              1))\n",
    "\n",
    "# MODEL SVC Linear\n",
    "models.append(('SVC Linear',\n",
    "              SVC(kernel='linear', max_iter=5000),\n",
    "              {'C' : loguniform(2**-5, 2**15)},\n",
    "              10))\n",
    "\n",
    "# MODEL SVC RBF\n",
    "models.append(('SVC RBF',\n",
    "              SVC(kernel='rbf'),\n",
    "              {'C' : loguniform(2**-5, 2**15),\n",
    "               'gamma': loguniform(2**-9, 2**3)},\n",
    "              10))\n",
    "\n",
    "# MODEL Naive Bayes\n",
    "models.append(('Naive Bayes',\n",
    "              GaussianNB(),\n",
    "              {},\n",
    "              1))\n",
    "\n",
    "# MODEL KNN\n",
    "models.append(('KNN',\n",
    "              KNeighborsClassifier(),\n",
    "              {'n_neighbors': list(range(1, 302, 2))},\n",
    "              10))\n",
    "\n",
    "# MODEL MLP\n",
    "models.append(('MLP',\n",
    "              MLPClassifier(),\n",
    "              {'hidden_layer_sizes': list(range(5, 21, 3))},\n",
    "              6))\n",
    "\n",
    "# MODEL DECISION TREE\n",
    "model = DecisionTreeClassifier()\n",
    "models.append(('Decision Tree',\n",
    "              DecisionTreeClassifier(),\n",
    "              {'ccp_alpha': uniform(0.0, 0.04)},\n",
    "              10))\n",
    "\n",
    "# MODEL RANDOM FOREST\n",
    "models.append(('Random Forest',\n",
    "              RandomForestClassifier(),\n",
    "              {'n_estimators': [10, 100, 1000],\n",
    "               'max_features': [5, 8, 10]},\n",
    "              9))\n",
    "\n",
    "# MODEL GBM\n",
    "models.append(('GBM',\n",
    "              GradientBoostingClassifier(),\n",
    "              {'n_estimators': list(range(5, 101)),\n",
    "               'learning_rate': uniform(0.01, 0.3),\n",
    "               'max_depth': [2, 3]},\n",
    "              10))\n",
    "\n",
    "results_df = compute_outer_score(models, X_scaled, y)\n",
    "\n",
    "results_df"
   ]
  }
 ],
 "metadata": {
  "accelerator": "GPU",
  "colab": {
   "collapsed_sections": [],
   "name": "Tarefa 4 - Aprendizado supervisionado - MO432.ipynb",
   "provenance": []
  },
  "kernelspec": {
   "display_name": "Python 3",
   "language": "python",
   "name": "python3"
  },
  "language_info": {
   "codemirror_mode": {
    "name": "ipython",
    "version": 3
   },
   "file_extension": ".py",
   "mimetype": "text/x-python",
   "name": "python",
   "nbconvert_exporter": "python",
   "pygments_lexer": "ipython3",
   "version": "3.8.6"
  }
 },
 "nbformat": 4,
 "nbformat_minor": 1
}
