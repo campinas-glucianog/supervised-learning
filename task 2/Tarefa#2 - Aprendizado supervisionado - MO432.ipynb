{
 "cells": [
  {
   "cell_type": "markdown",
   "metadata": {
    "id": "RkYuUs9ep9Pp"
   },
   "source": [
    "Universidade Estadual de Campinas (UNICAMP), Instituto de Computação (IC)\n",
    "\n",
    "Prof. Jacques Wainer, 2021s1"
   ]
  },
  {
   "cell_type": "code",
   "execution_count": 1,
   "metadata": {
    "colab": {
     "base_uri": "https://localhost:8080/"
    },
    "id": "SmB0BNceqNXe",
    "outputId": "74ab4f4d-9268-4ff7-9e76-4e210e957e60"
   },
   "outputs": [
    {
     "name": "stdout",
     "output_type": "stream",
     "text": [
      "265673: Gabriel Luciano Gomes\n",
      "264965: Décio Luiz Gazzoni Filho\n",
      "192880: Lucas Borges Rondon\n"
     ]
    }
   ],
   "source": [
    "# RA & Name\n",
    "print('265673: ' + 'Gabriel Luciano Gomes')\n",
    "print('264965: ' + 'Décio Luiz Gazzoni Filho')\n",
    "print('192880: ' + 'Lucas Borges Rondon')"
   ]
  },
  {
   "cell_type": "markdown",
   "metadata": {
    "id": "jLXrUjEMqXRa"
   },
   "source": [
    "# Leitura da base de dados"
   ]
  },
  {
   "cell_type": "code",
   "execution_count": 2,
   "metadata": {
    "colab": {
     "base_uri": "https://localhost:8080/",
     "height": 322
    },
    "id": "x_llltAZqaPG",
    "outputId": "9d905130-1e26-405c-d1ff-bb81e4f1c37a"
   },
   "outputs": [
    {
     "data": {
      "text/html": [
       "<div>\n",
       "<style scoped>\n",
       "    .dataframe tbody tr th:only-of-type {\n",
       "        vertical-align: middle;\n",
       "    }\n",
       "\n",
       "    .dataframe tbody tr th {\n",
       "        vertical-align: top;\n",
       "    }\n",
       "\n",
       "    .dataframe thead th {\n",
       "        text-align: right;\n",
       "    }\n",
       "</style>\n",
       "<table border=\"1\" class=\"dataframe\">\n",
       "  <thead>\n",
       "    <tr style=\"text-align: right;\">\n",
       "      <th></th>\n",
       "      <th>station</th>\n",
       "      <th>Date</th>\n",
       "      <th>Present_Tmax</th>\n",
       "      <th>Present_Tmin</th>\n",
       "      <th>LDAPS_RHmin</th>\n",
       "      <th>LDAPS_RHmax</th>\n",
       "      <th>LDAPS_Tmax_lapse</th>\n",
       "      <th>LDAPS_Tmin_lapse</th>\n",
       "      <th>LDAPS_WS</th>\n",
       "      <th>LDAPS_LH</th>\n",
       "      <th>LDAPS_CC1</th>\n",
       "      <th>LDAPS_CC2</th>\n",
       "      <th>LDAPS_CC3</th>\n",
       "      <th>LDAPS_CC4</th>\n",
       "      <th>LDAPS_PPT1</th>\n",
       "      <th>LDAPS_PPT2</th>\n",
       "      <th>LDAPS_PPT3</th>\n",
       "      <th>LDAPS_PPT4</th>\n",
       "      <th>lat</th>\n",
       "      <th>lon</th>\n",
       "      <th>DEM</th>\n",
       "      <th>Slope</th>\n",
       "      <th>Solar radiation</th>\n",
       "      <th>Next_Tmax</th>\n",
       "      <th>Next_Tmin</th>\n",
       "    </tr>\n",
       "  </thead>\n",
       "  <tbody>\n",
       "    <tr>\n",
       "      <th>0</th>\n",
       "      <td>1.0</td>\n",
       "      <td>2013-06-30</td>\n",
       "      <td>28.7</td>\n",
       "      <td>21.4</td>\n",
       "      <td>58.255688</td>\n",
       "      <td>91.116364</td>\n",
       "      <td>28.074101</td>\n",
       "      <td>23.006936</td>\n",
       "      <td>6.818887</td>\n",
       "      <td>69.451805</td>\n",
       "      <td>0.233947</td>\n",
       "      <td>0.203896</td>\n",
       "      <td>0.161697</td>\n",
       "      <td>0.130928</td>\n",
       "      <td>0.0</td>\n",
       "      <td>0.0</td>\n",
       "      <td>0.0</td>\n",
       "      <td>0.0</td>\n",
       "      <td>37.6046</td>\n",
       "      <td>126.991</td>\n",
       "      <td>212.3350</td>\n",
       "      <td>2.7850</td>\n",
       "      <td>5992.895996</td>\n",
       "      <td>29.1</td>\n",
       "      <td>21.2</td>\n",
       "    </tr>\n",
       "    <tr>\n",
       "      <th>1</th>\n",
       "      <td>2.0</td>\n",
       "      <td>2013-06-30</td>\n",
       "      <td>31.9</td>\n",
       "      <td>21.6</td>\n",
       "      <td>52.263397</td>\n",
       "      <td>90.604721</td>\n",
       "      <td>29.850689</td>\n",
       "      <td>24.035009</td>\n",
       "      <td>5.691890</td>\n",
       "      <td>51.937448</td>\n",
       "      <td>0.225508</td>\n",
       "      <td>0.251771</td>\n",
       "      <td>0.159444</td>\n",
       "      <td>0.127727</td>\n",
       "      <td>0.0</td>\n",
       "      <td>0.0</td>\n",
       "      <td>0.0</td>\n",
       "      <td>0.0</td>\n",
       "      <td>37.6046</td>\n",
       "      <td>127.032</td>\n",
       "      <td>44.7624</td>\n",
       "      <td>0.5141</td>\n",
       "      <td>5869.312500</td>\n",
       "      <td>30.5</td>\n",
       "      <td>22.5</td>\n",
       "    </tr>\n",
       "    <tr>\n",
       "      <th>2</th>\n",
       "      <td>3.0</td>\n",
       "      <td>2013-06-30</td>\n",
       "      <td>31.6</td>\n",
       "      <td>23.3</td>\n",
       "      <td>48.690479</td>\n",
       "      <td>83.973587</td>\n",
       "      <td>30.091292</td>\n",
       "      <td>24.565633</td>\n",
       "      <td>6.138224</td>\n",
       "      <td>20.573050</td>\n",
       "      <td>0.209344</td>\n",
       "      <td>0.257469</td>\n",
       "      <td>0.204091</td>\n",
       "      <td>0.142125</td>\n",
       "      <td>0.0</td>\n",
       "      <td>0.0</td>\n",
       "      <td>0.0</td>\n",
       "      <td>0.0</td>\n",
       "      <td>37.5776</td>\n",
       "      <td>127.058</td>\n",
       "      <td>33.3068</td>\n",
       "      <td>0.2661</td>\n",
       "      <td>5863.555664</td>\n",
       "      <td>31.1</td>\n",
       "      <td>23.9</td>\n",
       "    </tr>\n",
       "    <tr>\n",
       "      <th>3</th>\n",
       "      <td>4.0</td>\n",
       "      <td>2013-06-30</td>\n",
       "      <td>32.0</td>\n",
       "      <td>23.4</td>\n",
       "      <td>58.239788</td>\n",
       "      <td>96.483688</td>\n",
       "      <td>29.704629</td>\n",
       "      <td>23.326177</td>\n",
       "      <td>5.650050</td>\n",
       "      <td>65.727144</td>\n",
       "      <td>0.216372</td>\n",
       "      <td>0.226002</td>\n",
       "      <td>0.161157</td>\n",
       "      <td>0.134249</td>\n",
       "      <td>0.0</td>\n",
       "      <td>0.0</td>\n",
       "      <td>0.0</td>\n",
       "      <td>0.0</td>\n",
       "      <td>37.6450</td>\n",
       "      <td>127.022</td>\n",
       "      <td>45.7160</td>\n",
       "      <td>2.5348</td>\n",
       "      <td>5856.964844</td>\n",
       "      <td>31.7</td>\n",
       "      <td>24.3</td>\n",
       "    </tr>\n",
       "    <tr>\n",
       "      <th>4</th>\n",
       "      <td>5.0</td>\n",
       "      <td>2013-06-30</td>\n",
       "      <td>31.4</td>\n",
       "      <td>21.9</td>\n",
       "      <td>56.174095</td>\n",
       "      <td>90.155128</td>\n",
       "      <td>29.113934</td>\n",
       "      <td>23.486480</td>\n",
       "      <td>5.735004</td>\n",
       "      <td>107.965535</td>\n",
       "      <td>0.151407</td>\n",
       "      <td>0.249995</td>\n",
       "      <td>0.178892</td>\n",
       "      <td>0.170021</td>\n",
       "      <td>0.0</td>\n",
       "      <td>0.0</td>\n",
       "      <td>0.0</td>\n",
       "      <td>0.0</td>\n",
       "      <td>37.5507</td>\n",
       "      <td>127.135</td>\n",
       "      <td>35.0380</td>\n",
       "      <td>0.5055</td>\n",
       "      <td>5859.552246</td>\n",
       "      <td>31.2</td>\n",
       "      <td>22.5</td>\n",
       "    </tr>\n",
       "  </tbody>\n",
       "</table>\n",
       "</div>"
      ],
      "text/plain": [
       "   station        Date  Present_Tmax  ...  Solar radiation  Next_Tmax  Next_Tmin\n",
       "0      1.0  2013-06-30          28.7  ...      5992.895996       29.1       21.2\n",
       "1      2.0  2013-06-30          31.9  ...      5869.312500       30.5       22.5\n",
       "2      3.0  2013-06-30          31.6  ...      5863.555664       31.1       23.9\n",
       "3      4.0  2013-06-30          32.0  ...      5856.964844       31.7       24.3\n",
       "4      5.0  2013-06-30          31.4  ...      5859.552246       31.2       22.5\n",
       "\n",
       "[5 rows x 25 columns]"
      ]
     },
     "execution_count": 2,
     "metadata": {
      "tags": []
     },
     "output_type": "execute_result"
    }
   ],
   "source": [
    "import pandas as pd\n",
    "import requests\n",
    "import io\n",
    "\n",
    "url = \"https://archive.ics.uci.edu/ml/machine-learning-databases/00514/Bias_correction_ucl.csv\"\n",
    "s = requests.get(url).content\n",
    "\n",
    "db = pd.read_csv(io.StringIO(s.decode('utf-8')))\n",
    "db.head()"
   ]
  },
  {
   "cell_type": "code",
   "execution_count": 3,
   "metadata": {
    "colab": {
     "base_uri": "https://localhost:8080/"
    },
    "id": "IilOxBXvtPGS",
    "outputId": "0a443729-bd25-4296-d54e-660b70e83b01"
   },
   "outputs": [
    {
     "name": "stdout",
     "output_type": "stream",
     "text": [
      "A base de dados possui 7752 instâncias com 25 atributos.\n"
     ]
    }
   ],
   "source": [
    "print(f'A base de dados possui {db.shape[0]} instâncias com {db.shape[1]} atributos.')"
   ]
  },
  {
   "cell_type": "markdown",
   "metadata": {
    "id": "7SlG2IeBq4CM"
   },
   "source": [
    "# Pré-processamento dos dados"
   ]
  },
  {
   "cell_type": "markdown",
   "metadata": {
    "id": "R2dRBqEZsCe3"
   },
   "source": [
    "## Remoção das colunas \"Next_Tmin\" e \"Date\""
   ]
  },
  {
   "cell_type": "code",
   "execution_count": 4,
   "metadata": {
    "colab": {
     "base_uri": "https://localhost:8080/",
     "height": 235
    },
    "id": "7QPbnbT2q6Hv",
    "outputId": "d0808871-6063-41ee-8631-ec90e11807a8"
   },
   "outputs": [
    {
     "data": {
      "text/html": [
       "<div>\n",
       "<style scoped>\n",
       "    .dataframe tbody tr th:only-of-type {\n",
       "        vertical-align: middle;\n",
       "    }\n",
       "\n",
       "    .dataframe tbody tr th {\n",
       "        vertical-align: top;\n",
       "    }\n",
       "\n",
       "    .dataframe thead th {\n",
       "        text-align: right;\n",
       "    }\n",
       "</style>\n",
       "<table border=\"1\" class=\"dataframe\">\n",
       "  <thead>\n",
       "    <tr style=\"text-align: right;\">\n",
       "      <th></th>\n",
       "      <th>station</th>\n",
       "      <th>Present_Tmax</th>\n",
       "      <th>Present_Tmin</th>\n",
       "      <th>LDAPS_RHmin</th>\n",
       "      <th>LDAPS_RHmax</th>\n",
       "      <th>LDAPS_Tmax_lapse</th>\n",
       "      <th>LDAPS_Tmin_lapse</th>\n",
       "      <th>LDAPS_WS</th>\n",
       "      <th>LDAPS_LH</th>\n",
       "      <th>LDAPS_CC1</th>\n",
       "      <th>LDAPS_CC2</th>\n",
       "      <th>LDAPS_CC3</th>\n",
       "      <th>LDAPS_CC4</th>\n",
       "      <th>LDAPS_PPT1</th>\n",
       "      <th>LDAPS_PPT2</th>\n",
       "      <th>LDAPS_PPT3</th>\n",
       "      <th>LDAPS_PPT4</th>\n",
       "      <th>lat</th>\n",
       "      <th>lon</th>\n",
       "      <th>DEM</th>\n",
       "      <th>Slope</th>\n",
       "      <th>Solar radiation</th>\n",
       "      <th>Next_Tmax</th>\n",
       "    </tr>\n",
       "  </thead>\n",
       "  <tbody>\n",
       "    <tr>\n",
       "      <th>0</th>\n",
       "      <td>1.0</td>\n",
       "      <td>28.7</td>\n",
       "      <td>21.4</td>\n",
       "      <td>58.255688</td>\n",
       "      <td>91.116364</td>\n",
       "      <td>28.074101</td>\n",
       "      <td>23.006936</td>\n",
       "      <td>6.818887</td>\n",
       "      <td>69.451805</td>\n",
       "      <td>0.233947</td>\n",
       "      <td>0.203896</td>\n",
       "      <td>0.161697</td>\n",
       "      <td>0.130928</td>\n",
       "      <td>0.0</td>\n",
       "      <td>0.0</td>\n",
       "      <td>0.0</td>\n",
       "      <td>0.0</td>\n",
       "      <td>37.6046</td>\n",
       "      <td>126.991</td>\n",
       "      <td>212.3350</td>\n",
       "      <td>2.7850</td>\n",
       "      <td>5992.895996</td>\n",
       "      <td>29.1</td>\n",
       "    </tr>\n",
       "    <tr>\n",
       "      <th>1</th>\n",
       "      <td>2.0</td>\n",
       "      <td>31.9</td>\n",
       "      <td>21.6</td>\n",
       "      <td>52.263397</td>\n",
       "      <td>90.604721</td>\n",
       "      <td>29.850689</td>\n",
       "      <td>24.035009</td>\n",
       "      <td>5.691890</td>\n",
       "      <td>51.937448</td>\n",
       "      <td>0.225508</td>\n",
       "      <td>0.251771</td>\n",
       "      <td>0.159444</td>\n",
       "      <td>0.127727</td>\n",
       "      <td>0.0</td>\n",
       "      <td>0.0</td>\n",
       "      <td>0.0</td>\n",
       "      <td>0.0</td>\n",
       "      <td>37.6046</td>\n",
       "      <td>127.032</td>\n",
       "      <td>44.7624</td>\n",
       "      <td>0.5141</td>\n",
       "      <td>5869.312500</td>\n",
       "      <td>30.5</td>\n",
       "    </tr>\n",
       "    <tr>\n",
       "      <th>2</th>\n",
       "      <td>3.0</td>\n",
       "      <td>31.6</td>\n",
       "      <td>23.3</td>\n",
       "      <td>48.690479</td>\n",
       "      <td>83.973587</td>\n",
       "      <td>30.091292</td>\n",
       "      <td>24.565633</td>\n",
       "      <td>6.138224</td>\n",
       "      <td>20.573050</td>\n",
       "      <td>0.209344</td>\n",
       "      <td>0.257469</td>\n",
       "      <td>0.204091</td>\n",
       "      <td>0.142125</td>\n",
       "      <td>0.0</td>\n",
       "      <td>0.0</td>\n",
       "      <td>0.0</td>\n",
       "      <td>0.0</td>\n",
       "      <td>37.5776</td>\n",
       "      <td>127.058</td>\n",
       "      <td>33.3068</td>\n",
       "      <td>0.2661</td>\n",
       "      <td>5863.555664</td>\n",
       "      <td>31.1</td>\n",
       "    </tr>\n",
       "    <tr>\n",
       "      <th>3</th>\n",
       "      <td>4.0</td>\n",
       "      <td>32.0</td>\n",
       "      <td>23.4</td>\n",
       "      <td>58.239788</td>\n",
       "      <td>96.483688</td>\n",
       "      <td>29.704629</td>\n",
       "      <td>23.326177</td>\n",
       "      <td>5.650050</td>\n",
       "      <td>65.727144</td>\n",
       "      <td>0.216372</td>\n",
       "      <td>0.226002</td>\n",
       "      <td>0.161157</td>\n",
       "      <td>0.134249</td>\n",
       "      <td>0.0</td>\n",
       "      <td>0.0</td>\n",
       "      <td>0.0</td>\n",
       "      <td>0.0</td>\n",
       "      <td>37.6450</td>\n",
       "      <td>127.022</td>\n",
       "      <td>45.7160</td>\n",
       "      <td>2.5348</td>\n",
       "      <td>5856.964844</td>\n",
       "      <td>31.7</td>\n",
       "    </tr>\n",
       "    <tr>\n",
       "      <th>4</th>\n",
       "      <td>5.0</td>\n",
       "      <td>31.4</td>\n",
       "      <td>21.9</td>\n",
       "      <td>56.174095</td>\n",
       "      <td>90.155128</td>\n",
       "      <td>29.113934</td>\n",
       "      <td>23.486480</td>\n",
       "      <td>5.735004</td>\n",
       "      <td>107.965535</td>\n",
       "      <td>0.151407</td>\n",
       "      <td>0.249995</td>\n",
       "      <td>0.178892</td>\n",
       "      <td>0.170021</td>\n",
       "      <td>0.0</td>\n",
       "      <td>0.0</td>\n",
       "      <td>0.0</td>\n",
       "      <td>0.0</td>\n",
       "      <td>37.5507</td>\n",
       "      <td>127.135</td>\n",
       "      <td>35.0380</td>\n",
       "      <td>0.5055</td>\n",
       "      <td>5859.552246</td>\n",
       "      <td>31.2</td>\n",
       "    </tr>\n",
       "  </tbody>\n",
       "</table>\n",
       "</div>"
      ],
      "text/plain": [
       "   station  Present_Tmax  Present_Tmin  ...   Slope  Solar radiation  Next_Tmax\n",
       "0      1.0          28.7          21.4  ...  2.7850      5992.895996       29.1\n",
       "1      2.0          31.9          21.6  ...  0.5141      5869.312500       30.5\n",
       "2      3.0          31.6          23.3  ...  0.2661      5863.555664       31.1\n",
       "3      4.0          32.0          23.4  ...  2.5348      5856.964844       31.7\n",
       "4      5.0          31.4          21.9  ...  0.5055      5859.552246       31.2\n",
       "\n",
       "[5 rows x 23 columns]"
      ]
     },
     "execution_count": 4,
     "metadata": {
      "tags": []
     },
     "output_type": "execute_result"
    }
   ],
   "source": [
    "db = db.drop(columns=['Next_Tmin', 'Date'])\n",
    "\n",
    "db.head()"
   ]
  },
  {
   "cell_type": "markdown",
   "metadata": {
    "id": "xdG6FCWCsNf1"
   },
   "source": [
    "## Identificação de valores nulos"
   ]
  },
  {
   "cell_type": "code",
   "execution_count": 5,
   "metadata": {
    "colab": {
     "base_uri": "https://localhost:8080/"
    },
    "id": "_IXAPznPsPJj",
    "outputId": "11dbe918-feba-47cb-9ef7-4a149818c29f"
   },
   "outputs": [
    {
     "data": {
      "text/plain": [
       "station              2\n",
       "Present_Tmax        70\n",
       "Present_Tmin        70\n",
       "LDAPS_RHmin         75\n",
       "LDAPS_RHmax         75\n",
       "LDAPS_Tmax_lapse    75\n",
       "LDAPS_Tmin_lapse    75\n",
       "LDAPS_WS            75\n",
       "LDAPS_LH            75\n",
       "LDAPS_CC1           75\n",
       "LDAPS_CC2           75\n",
       "LDAPS_CC3           75\n",
       "LDAPS_CC4           75\n",
       "LDAPS_PPT1          75\n",
       "LDAPS_PPT2          75\n",
       "LDAPS_PPT3          75\n",
       "LDAPS_PPT4          75\n",
       "lat                  0\n",
       "lon                  0\n",
       "DEM                  0\n",
       "Slope                0\n",
       "Solar radiation      0\n",
       "Next_Tmax           27\n",
       "dtype: int64"
      ]
     },
     "execution_count": 5,
     "metadata": {
      "tags": []
     },
     "output_type": "execute_result"
    }
   ],
   "source": [
    "db.isna().sum() # Verificar se existem valores desconhecidos na base de dados"
   ]
  },
  {
   "cell_type": "markdown",
   "metadata": {
    "id": "RuB-thxJsiRQ"
   },
   "source": [
    "### Remoção dos valores nulos"
   ]
  },
  {
   "cell_type": "code",
   "execution_count": 6,
   "metadata": {
    "colab": {
     "base_uri": "https://localhost:8080/"
    },
    "id": "Vw9NU2A-sksi",
    "outputId": "c0a8003d-399e-4229-9bee-87f39e45f540"
   },
   "outputs": [
    {
     "data": {
      "text/plain": [
       "(7588, 23)"
      ]
     },
     "execution_count": 6,
     "metadata": {
      "tags": []
     },
     "output_type": "execute_result"
    }
   ],
   "source": [
    "db = db.dropna()\n",
    "db.shape"
   ]
  },
  {
   "cell_type": "markdown",
   "metadata": {
    "id": "n20uZEVGtq4x"
   },
   "source": [
    "### Separação da base de dados (entrada e saída)"
   ]
  },
  {
   "cell_type": "code",
   "execution_count": 7,
   "metadata": {
    "id": "VFYQuFTltw2K"
   },
   "outputs": [],
   "source": [
    "X = db.drop(columns=['Next_Tmax'])\n",
    "y = db['Next_Tmax']"
   ]
  },
  {
   "cell_type": "markdown",
   "metadata": {
    "id": "tYeh9YyQu1Hx"
   },
   "source": [
    "### Centering e Scaling dos dados de entrada"
   ]
  },
  {
   "cell_type": "code",
   "execution_count": 8,
   "metadata": {
    "id": "FwIIzCWzu6Ox"
   },
   "outputs": [],
   "source": [
    "from sklearn.preprocessing import StandardScaler\n",
    "\n",
    "scaler = StandardScaler()\n",
    "X = scaler.fit_transform(X)"
   ]
  },
  {
   "cell_type": "markdown",
   "metadata": {
    "id": "ruvIrNI5zYyK"
   },
   "source": [
    "# Processamento do conjunto de dados\n"
   ]
  },
  {
   "cell_type": "markdown",
   "metadata": {
    "id": "LLVts7bzzs5s"
   },
   "source": [
    "## Imports necessários"
   ]
  },
  {
   "cell_type": "code",
   "execution_count": 9,
   "metadata": {
    "id": "P0lXPjgkzr4-"
   },
   "outputs": [],
   "source": [
    "from random import sample\n",
    "from scipy.stats import loguniform, uniform\n",
    "from sklearn.ensemble import GradientBoostingRegressor, RandomForestRegressor\n",
    "from sklearn.exceptions import ConvergenceWarning\n",
    "from sklearn.linear_model import Lasso, LinearRegression, Ridge\n",
    "from sklearn.model_selection import cross_val_score, GridSearchCV, RandomizedSearchCV\n",
    "from sklearn.neighbors import KNeighborsRegressor\n",
    "from sklearn.neural_network import MLPRegressor\n",
    "from sklearn.svm import SVR\n",
    "from sklearn.tree import DecisionTreeRegressor\n",
    "from statistics import mean\n"
   ]
  },
  {
   "cell_type": "code",
   "execution_count": 10,
   "metadata": {
    "id": "_th83fPV475H"
   },
   "outputs": [],
   "source": [
    "def fit_values(model, X, y):\n",
    "  cvs = cross_val_score(model,\n",
    "                          X,\n",
    "                          y,\n",
    "                          cv=5,\n",
    "                          scoring='neg_root_mean_squared_error')\n",
    "  return cvs\n",
    "\n",
    "def find_hyperparams(model, space, X, y, n_iter):\n",
    "  search = RandomizedSearchCV(model,\n",
    "                          space,\n",
    "                          n_iter = n_iter,\n",
    "                          scoring = 'neg_root_mean_squared_error',\n",
    "                          n_jobs = -1,\n",
    "                          cv = 5,\n",
    "                          random_state = 1)\n",
    "  return search.fit(X,y)\n",
    "\n",
    "def best_results(model, space, X, y, hparams_name, n_iter = 10):\n",
    "  hparams = find_hyperparams(model, space, X, y, n_iter)\n",
    "\n",
    "  best_hparams = hparams.best_params_\n",
    "  best_rmse    = -hparams.best_score_\n",
    "\n",
    "  string_result = f'Melhor RMSE: {best_rmse:5f} para'\n",
    "\n",
    "  for x in hparams_name:\n",
    "    string_result += f' {x}: {best_hparams[x]:5f} \\t'\n",
    "\n",
    "\n",
    "  print(string_result)\n",
    "\n",
    "  model_default = fit_values(model, X, y)\n",
    "\n",
    "  print(f'RMSE para modelo default: {mean(-model_default):5f}')\n",
    "\n",
    "  return (best_hparams, best_rmse, model_default)"
   ]
  },
  {
   "cell_type": "markdown",
   "metadata": {
    "id": "rQulkUKQzcGW"
   },
   "source": [
    "## Modelo Linear"
   ]
  },
  {
   "cell_type": "code",
   "execution_count": 11,
   "metadata": {
    "colab": {
     "base_uri": "https://localhost:8080/"
    },
    "id": "eV78sZkEzeUo",
    "outputId": "1953e5b3-33b5-42b0-c3df-9225c91f42c6"
   },
   "outputs": [
    {
     "name": "stdout",
     "output_type": "stream",
     "text": [
      "********** Modelo Linear **********\n",
      "Melhor RMSE: 1.5775462124225403\n"
     ]
    }
   ],
   "source": [
    "linear_ = fit_values(LinearRegression(), X, y)\n",
    "\n",
    "print('*' *10 + ' Modelo Linear ' + '*' *10)\n",
    "print(f'Melhor RMSE: {mean(-linear_)}')"
   ]
  },
  {
   "cell_type": "markdown",
   "metadata": {
    "id": "3T6TY__l39GL"
   },
   "source": [
    "## Modelo Linear com regularização L2"
   ]
  },
  {
   "cell_type": "code",
   "execution_count": 12,
   "metadata": {
    "colab": {
     "base_uri": "https://localhost:8080/"
    },
    "id": "dMQrrjkZ4DHT",
    "outputId": "05e4bd71-f016-4e00-f636-aa05ab4c0256"
   },
   "outputs": [
    {
     "name": "stdout",
     "output_type": "stream",
     "text": [
      "********** Modelo Ridge **********\n",
      "Melhor RMSE: 1.576248 para alpha: 20.986836 \t\n",
      "RMSE para modelo default: 1.577477\n"
     ]
    }
   ],
   "source": [
    "space = dict()\n",
    "space['alpha'] = loguniform(10**-3, 10**3)\n",
    "\n",
    "\n",
    "print('*' *10 + ' Modelo Ridge ' + '*' *10)\n",
    "ridge_ = best_results(Ridge(),\n",
    "                      space,\n",
    "                      X,\n",
    "                      y,\n",
    "                      ['alpha'])"
   ]
  },
  {
   "cell_type": "markdown",
   "metadata": {
    "id": "QW7AW_MD_Ik0"
   },
   "source": [
    "## Modelo Linear com regularização L1"
   ]
  },
  {
   "cell_type": "code",
   "execution_count": 13,
   "metadata": {
    "colab": {
     "base_uri": "https://localhost:8080/"
    },
    "id": "f1JnU7OTBOCy",
    "outputId": "fc7bcafd-5881-48fd-d349-9da94021c043"
   },
   "outputs": [
    {
     "name": "stdout",
     "output_type": "stream",
     "text": [
      "********** Modelo Lasso **********\n",
      "Melhor RMSE: 1.570089 para alpha: 0.013109 \t\n",
      "RMSE para modelo default: 2.024356\n"
     ]
    }
   ],
   "source": [
    "space = dict()\n",
    "space['alpha'] = loguniform(10**-3, 10**3)\n",
    "\n",
    "\n",
    "print('*' *10 + ' Modelo Lasso ' + '*' *10)\n",
    "lasso_ = best_results(Lasso(),\n",
    "                      space,\n",
    "                      X,\n",
    "                      y,\n",
    "                      ['alpha'])"
   ]
  },
  {
   "cell_type": "markdown",
   "metadata": {
    "id": "1pP1wbi_BbNu"
   },
   "source": [
    "## Modelo SVM Linear"
   ]
  },
  {
   "cell_type": "code",
   "execution_count": 14,
   "metadata": {
    "colab": {
     "base_uri": "https://localhost:8080/"
    },
    "id": "-hKbVh58Bff7",
    "outputId": "de8bb2a5-8f3d-43a5-901a-dc7052309c2a"
   },
   "outputs": [
    {
     "name": "stdout",
     "output_type": "stream",
     "text": [
      "********** Modelo SVM Linear **********\n"
     ]
    },
    {
     "name": "stderr",
     "output_type": "stream",
     "text": [
      "/usr/local/lib/python3.7/dist-packages/sklearn/svm/_base.py:231: ConvergenceWarning: Solver terminated early (max_iter=3000).  Consider pre-processing your data with StandardScaler or MinMaxScaler.\n",
      "  % self.max_iter, ConvergenceWarning)\n"
     ]
    },
    {
     "name": "stdout",
     "output_type": "stream",
     "text": [
      "Melhor RMSE: 1.788912 para epsilon: 0.300000 \t C: 0.824608 \t\n"
     ]
    },
    {
     "name": "stderr",
     "output_type": "stream",
     "text": [
      "/usr/local/lib/python3.7/dist-packages/sklearn/svm/_base.py:231: ConvergenceWarning: Solver terminated early (max_iter=3000).  Consider pre-processing your data with StandardScaler or MinMaxScaler.\n",
      "  % self.max_iter, ConvergenceWarning)\n",
      "/usr/local/lib/python3.7/dist-packages/sklearn/svm/_base.py:231: ConvergenceWarning: Solver terminated early (max_iter=3000).  Consider pre-processing your data with StandardScaler or MinMaxScaler.\n",
      "  % self.max_iter, ConvergenceWarning)\n",
      "/usr/local/lib/python3.7/dist-packages/sklearn/svm/_base.py:231: ConvergenceWarning: Solver terminated early (max_iter=3000).  Consider pre-processing your data with StandardScaler or MinMaxScaler.\n",
      "  % self.max_iter, ConvergenceWarning)\n",
      "/usr/local/lib/python3.7/dist-packages/sklearn/svm/_base.py:231: ConvergenceWarning: Solver terminated early (max_iter=3000).  Consider pre-processing your data with StandardScaler or MinMaxScaler.\n",
      "  % self.max_iter, ConvergenceWarning)\n"
     ]
    },
    {
     "name": "stdout",
     "output_type": "stream",
     "text": [
      "RMSE para modelo default: 1.843715\n"
     ]
    },
    {
     "name": "stderr",
     "output_type": "stream",
     "text": [
      "/usr/local/lib/python3.7/dist-packages/sklearn/svm/_base.py:231: ConvergenceWarning: Solver terminated early (max_iter=3000).  Consider pre-processing your data with StandardScaler or MinMaxScaler.\n",
      "  % self.max_iter, ConvergenceWarning)\n"
     ]
    }
   ],
   "source": [
    "space = dict()\n",
    "space['epsilon'] = [0.1, 0.3]\n",
    "space['C'] = loguniform(2**-5, 2**15)\n",
    "\n",
    "print('*' *10 + ' Modelo SVM Linear ' + '*' *10)\n",
    "svm_linear_ = best_results(SVR(kernel = 'linear', max_iter = 3000),\n",
    "                           space,\n",
    "                           X,\n",
    "                           y,\n",
    "                           ['epsilon', 'C'])"
   ]
  },
  {
   "cell_type": "markdown",
   "metadata": {
    "id": "BPeGyDpXKYf-"
   },
   "source": [
    "## Modelo SVM kernel RBF"
   ]
  },
  {
   "cell_type": "code",
   "execution_count": 15,
   "metadata": {
    "colab": {
     "base_uri": "https://localhost:8080/"
    },
    "id": "tv-KfgmeKcX-",
    "outputId": "98cd20c2-2b1b-4d6b-d619-ac65d0429f5a"
   },
   "outputs": [
    {
     "name": "stdout",
     "output_type": "stream",
     "text": [
      "********** Modelo SVM Linear **********\n"
     ]
    },
    {
     "name": "stderr",
     "output_type": "stream",
     "text": [
      "/usr/local/lib/python3.7/dist-packages/sklearn/svm/_base.py:231: ConvergenceWarning: Solver terminated early (max_iter=3000).  Consider pre-processing your data with StandardScaler or MinMaxScaler.\n",
      "  % self.max_iter, ConvergenceWarning)\n"
     ]
    },
    {
     "name": "stdout",
     "output_type": "stream",
     "text": [
      "Melhor RMSE: 1.566807 para epsilon: 0.100000 \t C: 14.611758 \t gamma: 0.002453 \t\n"
     ]
    },
    {
     "name": "stderr",
     "output_type": "stream",
     "text": [
      "/usr/local/lib/python3.7/dist-packages/sklearn/svm/_base.py:231: ConvergenceWarning: Solver terminated early (max_iter=3000).  Consider pre-processing your data with StandardScaler or MinMaxScaler.\n",
      "  % self.max_iter, ConvergenceWarning)\n",
      "/usr/local/lib/python3.7/dist-packages/sklearn/svm/_base.py:231: ConvergenceWarning: Solver terminated early (max_iter=3000).  Consider pre-processing your data with StandardScaler or MinMaxScaler.\n",
      "  % self.max_iter, ConvergenceWarning)\n",
      "/usr/local/lib/python3.7/dist-packages/sklearn/svm/_base.py:231: ConvergenceWarning: Solver terminated early (max_iter=3000).  Consider pre-processing your data with StandardScaler or MinMaxScaler.\n",
      "  % self.max_iter, ConvergenceWarning)\n",
      "/usr/local/lib/python3.7/dist-packages/sklearn/svm/_base.py:231: ConvergenceWarning: Solver terminated early (max_iter=3000).  Consider pre-processing your data with StandardScaler or MinMaxScaler.\n",
      "  % self.max_iter, ConvergenceWarning)\n",
      "/usr/local/lib/python3.7/dist-packages/sklearn/svm/_base.py:231: ConvergenceWarning: Solver terminated early (max_iter=3000).  Consider pre-processing your data with StandardScaler or MinMaxScaler.\n",
      "  % self.max_iter, ConvergenceWarning)\n"
     ]
    },
    {
     "name": "stdout",
     "output_type": "stream",
     "text": [
      "RMSE para modelo default: 1.685369\n"
     ]
    }
   ],
   "source": [
    "space = dict()\n",
    "space['epsilon'] = [0.1, 0.3]\n",
    "space['C'] = loguniform(2**-5, 2**15)\n",
    "space['gamma'] = loguniform(2**-9, 2**3)\n",
    "\n",
    "print('*' *10 + ' Modelo SVM Linear ' + '*' *10)\n",
    "svm_rbf_ = best_results(SVR(kernel = 'rbf', max_iter = 3000),\n",
    "                        space,\n",
    "                        X,\n",
    "                        y,\n",
    "                        ['epsilon', 'C', 'gamma'])"
   ]
  },
  {
   "cell_type": "markdown",
   "metadata": {
    "id": "HvEn0iE3L3hi"
   },
   "source": [
    "## KNN"
   ]
  },
  {
   "cell_type": "code",
   "execution_count": 16,
   "metadata": {
    "colab": {
     "base_uri": "https://localhost:8080/"
    },
    "id": "NlK5y6HXME4x",
    "outputId": "42078161-8e76-4c1f-84f2-7481cd0a7928"
   },
   "outputs": [
    {
     "name": "stdout",
     "output_type": "stream",
     "text": [
      "********** Modelo KNN **********\n",
      "Melhor RMSE: 1.845414 para n_neighbors: 38.000000 \t\n",
      "RMSE para modelo default: 1.927051\n"
     ]
    }
   ],
   "source": [
    "space = dict()\n",
    "space['n_neighbors'] = list(range(1, 1001))\n",
    "\n",
    "print('*' *10 + ' Modelo KNN ' + '*' *10)\n",
    "svm_rbf_ = best_results(KNeighborsRegressor(),\n",
    "                        space,\n",
    "                        X,\n",
    "                        y,\n",
    "                        ['n_neighbors'])"
   ]
  },
  {
   "cell_type": "markdown",
   "metadata": {
    "id": "AosL5kQvSy-t"
   },
   "source": [
    "## MLP"
   ]
  },
  {
   "cell_type": "code",
   "execution_count": 17,
   "metadata": {
    "colab": {
     "base_uri": "https://localhost:8080/"
    },
    "id": "2zfGw6GGTQzk",
    "outputId": "2f6d4140-88a2-46fc-9038-e1268eb40502"
   },
   "outputs": [
    {
     "name": "stdout",
     "output_type": "stream",
     "text": [
      "********** Modelo MLP **********\n"
     ]
    },
    {
     "name": "stderr",
     "output_type": "stream",
     "text": [
      "/usr/local/lib/python3.7/dist-packages/sklearn/neural_network/_multilayer_perceptron.py:571: ConvergenceWarning: Stochastic Optimizer: Maximum iterations (200) reached and the optimization hasn't converged yet.\n",
      "  % self.max_iter, ConvergenceWarning)\n"
     ]
    },
    {
     "name": "stdout",
     "output_type": "stream",
     "text": [
      "Melhor RMSE: 2.383525 para hidden_layer_sizes: 11.000000 \t\n"
     ]
    },
    {
     "name": "stderr",
     "output_type": "stream",
     "text": [
      "/usr/local/lib/python3.7/dist-packages/sklearn/neural_network/_multilayer_perceptron.py:571: ConvergenceWarning: Stochastic Optimizer: Maximum iterations (200) reached and the optimization hasn't converged yet.\n",
      "  % self.max_iter, ConvergenceWarning)\n",
      "/usr/local/lib/python3.7/dist-packages/sklearn/neural_network/_multilayer_perceptron.py:571: ConvergenceWarning: Stochastic Optimizer: Maximum iterations (200) reached and the optimization hasn't converged yet.\n",
      "  % self.max_iter, ConvergenceWarning)\n",
      "/usr/local/lib/python3.7/dist-packages/sklearn/neural_network/_multilayer_perceptron.py:571: ConvergenceWarning: Stochastic Optimizer: Maximum iterations (200) reached and the optimization hasn't converged yet.\n",
      "  % self.max_iter, ConvergenceWarning)\n",
      "/usr/local/lib/python3.7/dist-packages/sklearn/neural_network/_multilayer_perceptron.py:571: ConvergenceWarning: Stochastic Optimizer: Maximum iterations (200) reached and the optimization hasn't converged yet.\n",
      "  % self.max_iter, ConvergenceWarning)\n"
     ]
    },
    {
     "name": "stdout",
     "output_type": "stream",
     "text": [
      "RMSE para modelo default: 1.931995\n"
     ]
    },
    {
     "name": "stderr",
     "output_type": "stream",
     "text": [
      "/usr/local/lib/python3.7/dist-packages/sklearn/neural_network/_multilayer_perceptron.py:571: ConvergenceWarning: Stochastic Optimizer: Maximum iterations (200) reached and the optimization hasn't converged yet.\n",
      "  % self.max_iter, ConvergenceWarning)\n"
     ]
    }
   ],
   "source": [
    "space = dict()\n",
    "space['hidden_layer_sizes'] = list(range(5, 21, 3))\n",
    "\n",
    "print('*' *10 + ' Modelo MLP ' + '*' *10)\n",
    "mlp_ = best_results(MLPRegressor(),\n",
    "                    space,\n",
    "                    X,\n",
    "                    y,\n",
    "                    ['hidden_layer_sizes'],\n",
    "                    6)\n"
   ]
  },
  {
   "cell_type": "code",
   "execution_count": 18,
   "metadata": {
    "colab": {
     "base_uri": "https://localhost:8080/"
    },
    "id": "KO9coUesUogq",
    "outputId": "2d422715-ee21-4a39-e1af-11e2e8ab7d04"
   },
   "outputs": [
    {
     "data": {
      "text/plain": [
       "({'hidden_layer_sizes': 11},\n",
       " 2.3835245841742254,\n",
       " array([-2.00656122, -1.79094716, -2.02333629, -1.97491476, -1.8642152 ]))"
      ]
     },
     "execution_count": 18,
     "metadata": {
      "tags": []
     },
     "output_type": "execute_result"
    }
   ],
   "source": [
    "mlp_"
   ]
  },
  {
   "cell_type": "markdown",
   "metadata": {
    "id": "Rj0CUGyZaqRT"
   },
   "source": [
    "## Árvore de Decisão\n"
   ]
  },
  {
   "cell_type": "code",
   "execution_count": 19,
   "metadata": {
    "colab": {
     "base_uri": "https://localhost:8080/"
    },
    "id": "R7WmOvRWasED",
    "outputId": "d1d12cd3-098b-4084-a2a9-5e79d754d49d"
   },
   "outputs": [
    {
     "name": "stdout",
     "output_type": "stream",
     "text": [
      "********** Modelo de Árvore de Decisão **********\n",
      "Melhor RMSE: 1.861153 para ccp_alpha: 0.021553 \t\n",
      "RMSE para modelo default: 2.208033\n"
     ]
    }
   ],
   "source": [
    "space = dict()\n",
    "space['ccp_alpha'] = uniform(0.0, 0.04)\n",
    "\n",
    "print('*' *10 + ' Modelo de Árvore de Decisão ' + '*' *10)\n",
    "\n",
    "model = DecisionTreeRegressor()\n",
    "model.cost_complexity_pruning_path(X, y)\n",
    "\n",
    "decision_tree_ = best_results(model,\n",
    "                              space,\n",
    "                              X,\n",
    "                              y,\n",
    "                              ['ccp_alpha'])\n"
   ]
  },
  {
   "cell_type": "markdown",
   "metadata": {
    "id": "oDn9wIjmg7_I"
   },
   "source": [
    "## Random Forest"
   ]
  },
  {
   "cell_type": "code",
   "execution_count": 20,
   "metadata": {
    "colab": {
     "base_uri": "https://localhost:8080/"
    },
    "id": "_BXM9diThFDS",
    "outputId": "4c4e7262-4944-468a-ec18-483155ab31f1"
   },
   "outputs": [
    {
     "name": "stdout",
     "output_type": "stream",
     "text": [
      "********** Modelo Random Forest **********\n"
     ]
    },
    {
     "name": "stderr",
     "output_type": "stream",
     "text": [
      "/usr/local/lib/python3.7/dist-packages/joblib/externals/loky/process_executor.py:691: UserWarning: A worker stopped while some jobs were given to the executor. This can be caused by a too short worker timeout or by a memory leak.\n",
      "  \"timeout or by a memory leak.\", UserWarning\n"
     ]
    },
    {
     "name": "stdout",
     "output_type": "stream",
     "text": [
      "Melhor RMSE: 1.627018 para n_estimators: 1000.000000 \t max_features: 10.000000 \t\n",
      "RMSE para modelo default: 1.658443\n"
     ]
    }
   ],
   "source": [
    "space = dict()\n",
    "space['n_estimators'] = [10, 100, 1000]\n",
    "space['max_features'] = [5, 10, 22]\n",
    "\n",
    "print('*' *10 + ' Modelo Random Forest ' + '*' *10)\n",
    "\n",
    "random_forest_ = best_results(RandomForestRegressor(),\n",
    "                              space,\n",
    "                              X,\n",
    "                              y,\n",
    "                              ['n_estimators', 'max_features'],\n",
    "                              9)"
   ]
  },
  {
   "cell_type": "markdown",
   "metadata": {
    "id": "Hyi7P2dVjAHP"
   },
   "source": [
    "## GBM"
   ]
  },
  {
   "cell_type": "code",
   "execution_count": 21,
   "metadata": {
    "colab": {
     "base_uri": "https://localhost:8080/"
    },
    "id": "Ei8zL5aCjBAI",
    "outputId": "85017707-08ce-4ea9-febd-43dbbd008b24"
   },
   "outputs": [
    {
     "name": "stdout",
     "output_type": "stream",
     "text": [
      "********** Modelo GBM **********\n",
      "Melhor RMSE: 1.585280 para n_estimators: 77.000000 \t learning_rate: 0.135107 \t max_depth: 2.000000 \t\n",
      "RMSE para modelo default: 1.596553\n"
     ]
    }
   ],
   "source": [
    "space = dict()\n",
    "space['n_estimators'] = list(range(5, 101))\n",
    "space['learning_rate'] = uniform(0.01, 0.3)\n",
    "space['max_depth'] = [2,3]\n",
    "\n",
    "print('*' *10 + ' Modelo GBM ' + '*' *10)\n",
    "gbm_ = best_results(GradientBoostingRegressor(),\n",
    "                              space,\n",
    "                              X,\n",
    "                              y,\n",
    "                              ['n_estimators', 'learning_rate', 'max_depth'])"
   ]
  },
  {
   "cell_type": "markdown",
   "metadata": {
    "id": "7qi4wSVyozM1"
   },
   "source": [
    "## Tabela Comparativa"
   ]
  },
  {
   "cell_type": "markdown",
   "metadata": {
    "id": "k0ZGiIY3p9Sx"
   },
   "source": [
    "| Modelo \\ RMSE     | Default  | Melhores Hyperparâmetros |\n",
    "|-------------------|:--------:|:------------------------:|\n",
    "| Linear            | 1.577546 |              -           |\n",
    "| Linear com L1     | 2.024356 |          1.570089        |\n",
    "| Linear com L2     | 1.577477 |          1.576248        |\n",
    "| SVM Linear        | 1.843715 |          1.788912        |\n",
    "| SVM com brf       | 1.685369 |          1.566807        |\n",
    "| KNN               | 1.927051 |          1.845414        |\n",
    "| MLP               | 1.931995 |          2.383525        |\n",
    "| Árvore de Decisão | 2.208033 |          1.861153        |\n",
    "| Random Forest     | 1.658443 |          1.627018        |\n",
    "| GBM               | 1.596553 |          1.585280        |\n"
   ]
  }
 ],
 "metadata": {
  "accelerator": "GPU",
  "colab": {
   "collapsed_sections": [],
   "name": "Tarefa 2 - Aprendizado supervisionado - MO432.ipynb",
   "provenance": [],
   "toc_visible": true
  },
  "kernelspec": {
   "display_name": "Python 3",
   "language": "python",
   "name": "python3"
  },
  "language_info": {
   "codemirror_mode": {
    "name": "ipython",
    "version": 3
   },
   "file_extension": ".py",
   "mimetype": "text/x-python",
   "name": "python",
   "nbconvert_exporter": "python",
   "pygments_lexer": "ipython3",
   "version": "3.8.6"
  }
 },
 "nbformat": 4,
 "nbformat_minor": 1
}
